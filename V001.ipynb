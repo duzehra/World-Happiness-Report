{
 "cells": [
  {
   "cell_type": "code",
   "execution_count": 37,
   "id": "0b89e5fc",
   "metadata": {},
   "outputs": [],
   "source": [
    "import numpy as np \n",
    "import pandas as pd\n",
    "import seaborn as sns\n",
    "import matplotlib.pyplot as plt"
   ]
  },
  {
   "cell_type": "code",
   "execution_count": 190,
   "id": "a1fc55f0",
   "metadata": {},
   "outputs": [],
   "source": [
    "report15 = pd.read_csv('C:/Users/Zehra/Desktop/Python/World_Happiness/2015.csv')\n",
    "report16 = pd.read_csv('C:/Users/Zehra/Desktop/Python/World_Happiness/2016.csv')\n",
    "report17 = pd.read_csv('C:/Users/Zehra/Desktop/Python/World_Happiness/2017.csv')\n",
    "report18 = pd.read_csv('C:/Users/Zehra/Desktop/Python/World_Happiness/2018.csv')\n",
    "report19 = pd.read_csv('C:/Users/Zehra/Desktop/Python/World_Happiness/2019.csv')"
   ]
  },
  {
   "cell_type": "code",
   "execution_count": 191,
   "id": "6730ab78",
   "metadata": {},
   "outputs": [],
   "source": [
    "pd.set_option('display.max_rows',2000)\n",
    "pd.set_option('display.max_columns',2000)"
   ]
  },
  {
   "cell_type": "code",
   "execution_count": 192,
   "id": "404d832a",
   "metadata": {},
   "outputs": [
    {
     "data": {
      "text/html": [
       "<div>\n",
       "<style scoped>\n",
       "    .dataframe tbody tr th:only-of-type {\n",
       "        vertical-align: middle;\n",
       "    }\n",
       "\n",
       "    .dataframe tbody tr th {\n",
       "        vertical-align: top;\n",
       "    }\n",
       "\n",
       "    .dataframe thead th {\n",
       "        text-align: right;\n",
       "    }\n",
       "</style>\n",
       "<table border=\"1\" class=\"dataframe\">\n",
       "  <thead>\n",
       "    <tr style=\"text-align: right;\">\n",
       "      <th></th>\n",
       "      <th>Country</th>\n",
       "      <th>Region</th>\n",
       "      <th>Happiness Rank</th>\n",
       "      <th>Happiness Score</th>\n",
       "      <th>Standard Error</th>\n",
       "      <th>Economy (GDP per Capita)</th>\n",
       "      <th>Family</th>\n",
       "      <th>Health (Life Expectancy)</th>\n",
       "      <th>Freedom</th>\n",
       "      <th>Trust (Government Corruption)</th>\n",
       "      <th>Generosity</th>\n",
       "      <th>Dystopia Residual</th>\n",
       "    </tr>\n",
       "  </thead>\n",
       "  <tbody>\n",
       "    <tr>\n",
       "      <th>0</th>\n",
       "      <td>Switzerland</td>\n",
       "      <td>Western Europe</td>\n",
       "      <td>1</td>\n",
       "      <td>7.587</td>\n",
       "      <td>0.03411</td>\n",
       "      <td>1.39651</td>\n",
       "      <td>1.34951</td>\n",
       "      <td>0.94143</td>\n",
       "      <td>0.66557</td>\n",
       "      <td>0.41978</td>\n",
       "      <td>0.29678</td>\n",
       "      <td>2.51738</td>\n",
       "    </tr>\n",
       "    <tr>\n",
       "      <th>1</th>\n",
       "      <td>Iceland</td>\n",
       "      <td>Western Europe</td>\n",
       "      <td>2</td>\n",
       "      <td>7.561</td>\n",
       "      <td>0.04884</td>\n",
       "      <td>1.30232</td>\n",
       "      <td>1.40223</td>\n",
       "      <td>0.94784</td>\n",
       "      <td>0.62877</td>\n",
       "      <td>0.14145</td>\n",
       "      <td>0.43630</td>\n",
       "      <td>2.70201</td>\n",
       "    </tr>\n",
       "  </tbody>\n",
       "</table>\n",
       "</div>"
      ],
      "text/plain": [
       "       Country          Region  Happiness Rank  Happiness Score  \\\n",
       "0  Switzerland  Western Europe               1            7.587   \n",
       "1      Iceland  Western Europe               2            7.561   \n",
       "\n",
       "   Standard Error  Economy (GDP per Capita)   Family  \\\n",
       "0         0.03411                   1.39651  1.34951   \n",
       "1         0.04884                   1.30232  1.40223   \n",
       "\n",
       "   Health (Life Expectancy)  Freedom  Trust (Government Corruption)  \\\n",
       "0                   0.94143  0.66557                        0.41978   \n",
       "1                   0.94784  0.62877                        0.14145   \n",
       "\n",
       "   Generosity  Dystopia Residual  \n",
       "0     0.29678            2.51738  \n",
       "1     0.43630            2.70201  "
      ]
     },
     "execution_count": 192,
     "metadata": {},
     "output_type": "execute_result"
    }
   ],
   "source": [
    "report15.head(2)"
   ]
  },
  {
   "cell_type": "code",
   "execution_count": 193,
   "id": "773c4018",
   "metadata": {},
   "outputs": [
    {
     "data": {
      "text/html": [
       "<div>\n",
       "<style scoped>\n",
       "    .dataframe tbody tr th:only-of-type {\n",
       "        vertical-align: middle;\n",
       "    }\n",
       "\n",
       "    .dataframe tbody tr th {\n",
       "        vertical-align: top;\n",
       "    }\n",
       "\n",
       "    .dataframe thead th {\n",
       "        text-align: right;\n",
       "    }\n",
       "</style>\n",
       "<table border=\"1\" class=\"dataframe\">\n",
       "  <thead>\n",
       "    <tr style=\"text-align: right;\">\n",
       "      <th></th>\n",
       "      <th>Country</th>\n",
       "      <th>Region</th>\n",
       "      <th>Happiness Rank</th>\n",
       "      <th>Happiness Score</th>\n",
       "      <th>Lower Confidence Interval</th>\n",
       "      <th>Upper Confidence Interval</th>\n",
       "      <th>Economy (GDP per Capita)</th>\n",
       "      <th>Family</th>\n",
       "      <th>Health (Life Expectancy)</th>\n",
       "      <th>Freedom</th>\n",
       "      <th>Trust (Government Corruption)</th>\n",
       "      <th>Generosity</th>\n",
       "      <th>Dystopia Residual</th>\n",
       "    </tr>\n",
       "  </thead>\n",
       "  <tbody>\n",
       "    <tr>\n",
       "      <th>0</th>\n",
       "      <td>Denmark</td>\n",
       "      <td>Western Europe</td>\n",
       "      <td>1</td>\n",
       "      <td>7.526</td>\n",
       "      <td>7.460</td>\n",
       "      <td>7.592</td>\n",
       "      <td>1.44178</td>\n",
       "      <td>1.16374</td>\n",
       "      <td>0.79504</td>\n",
       "      <td>0.57941</td>\n",
       "      <td>0.44453</td>\n",
       "      <td>0.36171</td>\n",
       "      <td>2.73939</td>\n",
       "    </tr>\n",
       "    <tr>\n",
       "      <th>1</th>\n",
       "      <td>Switzerland</td>\n",
       "      <td>Western Europe</td>\n",
       "      <td>2</td>\n",
       "      <td>7.509</td>\n",
       "      <td>7.428</td>\n",
       "      <td>7.590</td>\n",
       "      <td>1.52733</td>\n",
       "      <td>1.14524</td>\n",
       "      <td>0.86303</td>\n",
       "      <td>0.58557</td>\n",
       "      <td>0.41203</td>\n",
       "      <td>0.28083</td>\n",
       "      <td>2.69463</td>\n",
       "    </tr>\n",
       "  </tbody>\n",
       "</table>\n",
       "</div>"
      ],
      "text/plain": [
       "       Country          Region  Happiness Rank  Happiness Score  \\\n",
       "0      Denmark  Western Europe               1            7.526   \n",
       "1  Switzerland  Western Europe               2            7.509   \n",
       "\n",
       "   Lower Confidence Interval  Upper Confidence Interval  \\\n",
       "0                      7.460                      7.592   \n",
       "1                      7.428                      7.590   \n",
       "\n",
       "   Economy (GDP per Capita)   Family  Health (Life Expectancy)  Freedom  \\\n",
       "0                   1.44178  1.16374                   0.79504  0.57941   \n",
       "1                   1.52733  1.14524                   0.86303  0.58557   \n",
       "\n",
       "   Trust (Government Corruption)  Generosity  Dystopia Residual  \n",
       "0                        0.44453     0.36171            2.73939  \n",
       "1                        0.41203     0.28083            2.69463  "
      ]
     },
     "execution_count": 193,
     "metadata": {},
     "output_type": "execute_result"
    }
   ],
   "source": [
    "report16.head(2)"
   ]
  },
  {
   "cell_type": "code",
   "execution_count": 194,
   "id": "d7772704",
   "metadata": {},
   "outputs": [
    {
     "data": {
      "text/html": [
       "<div>\n",
       "<style scoped>\n",
       "    .dataframe tbody tr th:only-of-type {\n",
       "        vertical-align: middle;\n",
       "    }\n",
       "\n",
       "    .dataframe tbody tr th {\n",
       "        vertical-align: top;\n",
       "    }\n",
       "\n",
       "    .dataframe thead th {\n",
       "        text-align: right;\n",
       "    }\n",
       "</style>\n",
       "<table border=\"1\" class=\"dataframe\">\n",
       "  <thead>\n",
       "    <tr style=\"text-align: right;\">\n",
       "      <th></th>\n",
       "      <th>Country</th>\n",
       "      <th>Happiness.Rank</th>\n",
       "      <th>Happiness.Score</th>\n",
       "      <th>Whisker.high</th>\n",
       "      <th>Whisker.low</th>\n",
       "      <th>Economy..GDP.per.Capita.</th>\n",
       "      <th>Family</th>\n",
       "      <th>Health..Life.Expectancy.</th>\n",
       "      <th>Freedom</th>\n",
       "      <th>Generosity</th>\n",
       "      <th>Trust..Government.Corruption.</th>\n",
       "      <th>Dystopia.Residual</th>\n",
       "    </tr>\n",
       "  </thead>\n",
       "  <tbody>\n",
       "    <tr>\n",
       "      <th>0</th>\n",
       "      <td>Norway</td>\n",
       "      <td>1</td>\n",
       "      <td>7.537</td>\n",
       "      <td>7.594445</td>\n",
       "      <td>7.479556</td>\n",
       "      <td>1.616463</td>\n",
       "      <td>1.533524</td>\n",
       "      <td>0.796667</td>\n",
       "      <td>0.635423</td>\n",
       "      <td>0.362012</td>\n",
       "      <td>0.315964</td>\n",
       "      <td>2.277027</td>\n",
       "    </tr>\n",
       "    <tr>\n",
       "      <th>1</th>\n",
       "      <td>Denmark</td>\n",
       "      <td>2</td>\n",
       "      <td>7.522</td>\n",
       "      <td>7.581728</td>\n",
       "      <td>7.462272</td>\n",
       "      <td>1.482383</td>\n",
       "      <td>1.551122</td>\n",
       "      <td>0.792566</td>\n",
       "      <td>0.626007</td>\n",
       "      <td>0.355280</td>\n",
       "      <td>0.400770</td>\n",
       "      <td>2.313707</td>\n",
       "    </tr>\n",
       "  </tbody>\n",
       "</table>\n",
       "</div>"
      ],
      "text/plain": [
       "   Country  Happiness.Rank  Happiness.Score  Whisker.high  Whisker.low  \\\n",
       "0   Norway               1            7.537      7.594445     7.479556   \n",
       "1  Denmark               2            7.522      7.581728     7.462272   \n",
       "\n",
       "   Economy..GDP.per.Capita.    Family  Health..Life.Expectancy.   Freedom  \\\n",
       "0                  1.616463  1.533524                  0.796667  0.635423   \n",
       "1                  1.482383  1.551122                  0.792566  0.626007   \n",
       "\n",
       "   Generosity  Trust..Government.Corruption.  Dystopia.Residual  \n",
       "0    0.362012                       0.315964           2.277027  \n",
       "1    0.355280                       0.400770           2.313707  "
      ]
     },
     "execution_count": 194,
     "metadata": {},
     "output_type": "execute_result"
    }
   ],
   "source": [
    "report17.head(2)"
   ]
  },
  {
   "cell_type": "code",
   "execution_count": 195,
   "id": "0f5e5b75",
   "metadata": {},
   "outputs": [
    {
     "data": {
      "text/html": [
       "<div>\n",
       "<style scoped>\n",
       "    .dataframe tbody tr th:only-of-type {\n",
       "        vertical-align: middle;\n",
       "    }\n",
       "\n",
       "    .dataframe tbody tr th {\n",
       "        vertical-align: top;\n",
       "    }\n",
       "\n",
       "    .dataframe thead th {\n",
       "        text-align: right;\n",
       "    }\n",
       "</style>\n",
       "<table border=\"1\" class=\"dataframe\">\n",
       "  <thead>\n",
       "    <tr style=\"text-align: right;\">\n",
       "      <th></th>\n",
       "      <th>Overall rank</th>\n",
       "      <th>Country or region</th>\n",
       "      <th>Score</th>\n",
       "      <th>GDP per capita</th>\n",
       "      <th>Social support</th>\n",
       "      <th>Healthy life expectancy</th>\n",
       "      <th>Freedom to make life choices</th>\n",
       "      <th>Generosity</th>\n",
       "      <th>Perceptions of corruption</th>\n",
       "    </tr>\n",
       "  </thead>\n",
       "  <tbody>\n",
       "    <tr>\n",
       "      <th>0</th>\n",
       "      <td>1</td>\n",
       "      <td>Finland</td>\n",
       "      <td>7.632</td>\n",
       "      <td>1.305</td>\n",
       "      <td>1.592</td>\n",
       "      <td>0.874</td>\n",
       "      <td>0.681</td>\n",
       "      <td>0.202</td>\n",
       "      <td>0.393</td>\n",
       "    </tr>\n",
       "    <tr>\n",
       "      <th>1</th>\n",
       "      <td>2</td>\n",
       "      <td>Norway</td>\n",
       "      <td>7.594</td>\n",
       "      <td>1.456</td>\n",
       "      <td>1.582</td>\n",
       "      <td>0.861</td>\n",
       "      <td>0.686</td>\n",
       "      <td>0.286</td>\n",
       "      <td>0.340</td>\n",
       "    </tr>\n",
       "  </tbody>\n",
       "</table>\n",
       "</div>"
      ],
      "text/plain": [
       "   Overall rank Country or region  Score  GDP per capita  Social support  \\\n",
       "0             1           Finland  7.632           1.305           1.592   \n",
       "1             2            Norway  7.594           1.456           1.582   \n",
       "\n",
       "   Healthy life expectancy  Freedom to make life choices  Generosity  \\\n",
       "0                    0.874                         0.681       0.202   \n",
       "1                    0.861                         0.686       0.286   \n",
       "\n",
       "   Perceptions of corruption  \n",
       "0                      0.393  \n",
       "1                      0.340  "
      ]
     },
     "execution_count": 195,
     "metadata": {},
     "output_type": "execute_result"
    }
   ],
   "source": [
    "report18.head(2)"
   ]
  },
  {
   "cell_type": "code",
   "execution_count": 196,
   "id": "5a2590ee",
   "metadata": {},
   "outputs": [
    {
     "data": {
      "text/html": [
       "<div>\n",
       "<style scoped>\n",
       "    .dataframe tbody tr th:only-of-type {\n",
       "        vertical-align: middle;\n",
       "    }\n",
       "\n",
       "    .dataframe tbody tr th {\n",
       "        vertical-align: top;\n",
       "    }\n",
       "\n",
       "    .dataframe thead th {\n",
       "        text-align: right;\n",
       "    }\n",
       "</style>\n",
       "<table border=\"1\" class=\"dataframe\">\n",
       "  <thead>\n",
       "    <tr style=\"text-align: right;\">\n",
       "      <th></th>\n",
       "      <th>Overall rank</th>\n",
       "      <th>Country or region</th>\n",
       "      <th>Score</th>\n",
       "      <th>GDP per capita</th>\n",
       "      <th>Social support</th>\n",
       "      <th>Healthy life expectancy</th>\n",
       "      <th>Freedom to make life choices</th>\n",
       "      <th>Generosity</th>\n",
       "      <th>Perceptions of corruption</th>\n",
       "    </tr>\n",
       "  </thead>\n",
       "  <tbody>\n",
       "    <tr>\n",
       "      <th>0</th>\n",
       "      <td>1</td>\n",
       "      <td>Finland</td>\n",
       "      <td>7.769</td>\n",
       "      <td>1.340</td>\n",
       "      <td>1.587</td>\n",
       "      <td>0.986</td>\n",
       "      <td>0.596</td>\n",
       "      <td>0.153</td>\n",
       "      <td>0.393</td>\n",
       "    </tr>\n",
       "    <tr>\n",
       "      <th>1</th>\n",
       "      <td>2</td>\n",
       "      <td>Denmark</td>\n",
       "      <td>7.600</td>\n",
       "      <td>1.383</td>\n",
       "      <td>1.573</td>\n",
       "      <td>0.996</td>\n",
       "      <td>0.592</td>\n",
       "      <td>0.252</td>\n",
       "      <td>0.410</td>\n",
       "    </tr>\n",
       "  </tbody>\n",
       "</table>\n",
       "</div>"
      ],
      "text/plain": [
       "   Overall rank Country or region  Score  GDP per capita  Social support  \\\n",
       "0             1           Finland  7.769           1.340           1.587   \n",
       "1             2           Denmark  7.600           1.383           1.573   \n",
       "\n",
       "   Healthy life expectancy  Freedom to make life choices  Generosity  \\\n",
       "0                    0.986                         0.596       0.153   \n",
       "1                    0.996                         0.592       0.252   \n",
       "\n",
       "   Perceptions of corruption  \n",
       "0                      0.393  \n",
       "1                      0.410  "
      ]
     },
     "execution_count": 196,
     "metadata": {},
     "output_type": "execute_result"
    }
   ],
   "source": [
    "report19.head(2)"
   ]
  },
  {
   "cell_type": "markdown",
   "id": "c4eef2d7",
   "metadata": {},
   "source": [
    "# Veri Temizleme"
   ]
  },
  {
   "cell_type": "code",
   "execution_count": 197,
   "id": "ebda0eaa",
   "metadata": {},
   "outputs": [],
   "source": [
    "report15.rename(columns={\"Happiness Rank\": \"HappinessRank\", \n",
    "                         \"Happiness Score\": \"HappinessScore\", \n",
    "                         \"Economy (GDP per Capita)\": \"GDP\", \n",
    "                         \"Health (Life Expectancy)\": \"Life\", \n",
    "                         \"Trust (Government Corruption)\": \"Trust\"}, inplace = True)\n",
    "\n",
    "report16.rename(columns={\"Happiness Rank\": \"HappinessRank\", \n",
    "                         \"Happiness Score\": \"HappinessScore\", \n",
    "                         \"Economy (GDP per Capita)\": \"GDP\", \n",
    "                         \"Health (Life Expectancy)\": \"Life\", \n",
    "                         \"Trust (Government Corruption)\": \"Trust\"}, inplace = True)\n",
    "\n",
    "report17.rename(columns={\"Happiness.Rank\": \"HappinessRank\", \n",
    "                         \"Happiness.Score\": \"HappinessScore\", \n",
    "                         \"Economy..GDP.per.Capita.\": \"GDP\", \n",
    "                         \"Health..Life.Expectancy.\": \"Life\",\n",
    "                         \"Trust..Government.Corruption.\": \"Trust\"}, inplace = True)\n",
    "report18.rename(columns={\"Overall rank\": \"HappinessRank\", \n",
    "                         \"Country or region\": \"Country\", \n",
    "                         \"Score\": \"HappinessScore\", \n",
    "                         \"GDP per capita\": \"GDP\", \n",
    "                         \"Social support\": \"Family\",\n",
    "                         \"Healthy life expectancy\": \"Life\", \n",
    "                         \"Freedom to make life choices\": \"Freedom\",\n",
    "                         \"Perceptions of corruption\": \"Trust\"}, inplace = True)\n",
    "\n",
    "report19.rename(columns={\"Overall rank\": \"HappinessRank\", \n",
    "                         \"Country or region\": \"Country\", \n",
    "                         \"Score\": \"HappinessScore\", \n",
    "                         \"GDP per capita\": \"GDP\", \n",
    "                         \"Social support\": \"Family\",\n",
    "                         \"Healthy life expectancy\": \"Life\", \n",
    "                         \"Freedom to make life choices\": \"Freedom\",\n",
    "                         \"Perceptions of corruption\": \"Trust\"}, inplace = True)"
   ]
  },
  {
   "cell_type": "code",
   "execution_count": 198,
   "id": "74b2c504",
   "metadata": {},
   "outputs": [],
   "source": [
    "report15.insert(2, \"Year\", 2015)\n",
    "report16.insert(2, \"Year\", 2016)\n",
    "report17.insert(2, \"Year\", 2017)\n",
    "report18.insert(2, \"Year\", 2018)\n",
    "report19.insert(2, \"Year\", 2019)"
   ]
  },
  {
   "cell_type": "code",
   "execution_count": 199,
   "id": "4eb8c1ce",
   "metadata": {},
   "outputs": [
    {
     "data": {
      "text/html": [
       "<div>\n",
       "<style scoped>\n",
       "    .dataframe tbody tr th:only-of-type {\n",
       "        vertical-align: middle;\n",
       "    }\n",
       "\n",
       "    .dataframe tbody tr th {\n",
       "        vertical-align: top;\n",
       "    }\n",
       "\n",
       "    .dataframe thead th {\n",
       "        text-align: right;\n",
       "    }\n",
       "</style>\n",
       "<table border=\"1\" class=\"dataframe\">\n",
       "  <thead>\n",
       "    <tr style=\"text-align: right;\">\n",
       "      <th></th>\n",
       "      <th>Country</th>\n",
       "      <th>Region</th>\n",
       "      <th>Year</th>\n",
       "      <th>HappinessRank</th>\n",
       "      <th>HappinessScore</th>\n",
       "      <th>Standard Error</th>\n",
       "      <th>GDP</th>\n",
       "      <th>Family</th>\n",
       "      <th>Life</th>\n",
       "      <th>Freedom</th>\n",
       "      <th>Trust</th>\n",
       "      <th>Generosity</th>\n",
       "      <th>Dystopia Residual</th>\n",
       "    </tr>\n",
       "  </thead>\n",
       "  <tbody>\n",
       "    <tr>\n",
       "      <th>0</th>\n",
       "      <td>Switzerland</td>\n",
       "      <td>Western Europe</td>\n",
       "      <td>2015</td>\n",
       "      <td>1</td>\n",
       "      <td>7.587</td>\n",
       "      <td>0.03411</td>\n",
       "      <td>1.39651</td>\n",
       "      <td>1.34951</td>\n",
       "      <td>0.94143</td>\n",
       "      <td>0.66557</td>\n",
       "      <td>0.41978</td>\n",
       "      <td>0.29678</td>\n",
       "      <td>2.51738</td>\n",
       "    </tr>\n",
       "    <tr>\n",
       "      <th>1</th>\n",
       "      <td>Iceland</td>\n",
       "      <td>Western Europe</td>\n",
       "      <td>2015</td>\n",
       "      <td>2</td>\n",
       "      <td>7.561</td>\n",
       "      <td>0.04884</td>\n",
       "      <td>1.30232</td>\n",
       "      <td>1.40223</td>\n",
       "      <td>0.94784</td>\n",
       "      <td>0.62877</td>\n",
       "      <td>0.14145</td>\n",
       "      <td>0.43630</td>\n",
       "      <td>2.70201</td>\n",
       "    </tr>\n",
       "  </tbody>\n",
       "</table>\n",
       "</div>"
      ],
      "text/plain": [
       "       Country          Region  Year  HappinessRank  HappinessScore  \\\n",
       "0  Switzerland  Western Europe  2015              1           7.587   \n",
       "1      Iceland  Western Europe  2015              2           7.561   \n",
       "\n",
       "   Standard Error      GDP   Family     Life  Freedom    Trust  Generosity  \\\n",
       "0         0.03411  1.39651  1.34951  0.94143  0.66557  0.41978     0.29678   \n",
       "1         0.04884  1.30232  1.40223  0.94784  0.62877  0.14145     0.43630   \n",
       "\n",
       "   Dystopia Residual  \n",
       "0            2.51738  \n",
       "1            2.70201  "
      ]
     },
     "execution_count": 199,
     "metadata": {},
     "output_type": "execute_result"
    }
   ],
   "source": [
    "report15.head(2)"
   ]
  },
  {
   "cell_type": "code",
   "execution_count": 200,
   "id": "66ee2fe2",
   "metadata": {},
   "outputs": [
    {
     "data": {
      "text/html": [
       "<div>\n",
       "<style scoped>\n",
       "    .dataframe tbody tr th:only-of-type {\n",
       "        vertical-align: middle;\n",
       "    }\n",
       "\n",
       "    .dataframe tbody tr th {\n",
       "        vertical-align: top;\n",
       "    }\n",
       "\n",
       "    .dataframe thead th {\n",
       "        text-align: right;\n",
       "    }\n",
       "</style>\n",
       "<table border=\"1\" class=\"dataframe\">\n",
       "  <thead>\n",
       "    <tr style=\"text-align: right;\">\n",
       "      <th></th>\n",
       "      <th>Country</th>\n",
       "      <th>Region</th>\n",
       "      <th>Year</th>\n",
       "      <th>HappinessRank</th>\n",
       "      <th>HappinessScore</th>\n",
       "      <th>Lower Confidence Interval</th>\n",
       "      <th>Upper Confidence Interval</th>\n",
       "      <th>GDP</th>\n",
       "      <th>Family</th>\n",
       "      <th>Life</th>\n",
       "      <th>Freedom</th>\n",
       "      <th>Trust</th>\n",
       "      <th>Generosity</th>\n",
       "      <th>Dystopia Residual</th>\n",
       "    </tr>\n",
       "  </thead>\n",
       "  <tbody>\n",
       "    <tr>\n",
       "      <th>0</th>\n",
       "      <td>Denmark</td>\n",
       "      <td>Western Europe</td>\n",
       "      <td>2016</td>\n",
       "      <td>1</td>\n",
       "      <td>7.526</td>\n",
       "      <td>7.460</td>\n",
       "      <td>7.592</td>\n",
       "      <td>1.44178</td>\n",
       "      <td>1.16374</td>\n",
       "      <td>0.79504</td>\n",
       "      <td>0.57941</td>\n",
       "      <td>0.44453</td>\n",
       "      <td>0.36171</td>\n",
       "      <td>2.73939</td>\n",
       "    </tr>\n",
       "    <tr>\n",
       "      <th>1</th>\n",
       "      <td>Switzerland</td>\n",
       "      <td>Western Europe</td>\n",
       "      <td>2016</td>\n",
       "      <td>2</td>\n",
       "      <td>7.509</td>\n",
       "      <td>7.428</td>\n",
       "      <td>7.590</td>\n",
       "      <td>1.52733</td>\n",
       "      <td>1.14524</td>\n",
       "      <td>0.86303</td>\n",
       "      <td>0.58557</td>\n",
       "      <td>0.41203</td>\n",
       "      <td>0.28083</td>\n",
       "      <td>2.69463</td>\n",
       "    </tr>\n",
       "  </tbody>\n",
       "</table>\n",
       "</div>"
      ],
      "text/plain": [
       "       Country          Region  Year  HappinessRank  HappinessScore  \\\n",
       "0      Denmark  Western Europe  2016              1           7.526   \n",
       "1  Switzerland  Western Europe  2016              2           7.509   \n",
       "\n",
       "   Lower Confidence Interval  Upper Confidence Interval      GDP   Family  \\\n",
       "0                      7.460                      7.592  1.44178  1.16374   \n",
       "1                      7.428                      7.590  1.52733  1.14524   \n",
       "\n",
       "      Life  Freedom    Trust  Generosity  Dystopia Residual  \n",
       "0  0.79504  0.57941  0.44453     0.36171            2.73939  \n",
       "1  0.86303  0.58557  0.41203     0.28083            2.69463  "
      ]
     },
     "execution_count": 200,
     "metadata": {},
     "output_type": "execute_result"
    }
   ],
   "source": [
    "report16.head(2)"
   ]
  },
  {
   "cell_type": "code",
   "execution_count": 203,
   "id": "f67fc6ea",
   "metadata": {},
   "outputs": [
    {
     "data": {
      "text/html": [
       "<div>\n",
       "<style scoped>\n",
       "    .dataframe tbody tr th:only-of-type {\n",
       "        vertical-align: middle;\n",
       "    }\n",
       "\n",
       "    .dataframe tbody tr th {\n",
       "        vertical-align: top;\n",
       "    }\n",
       "\n",
       "    .dataframe thead th {\n",
       "        text-align: right;\n",
       "    }\n",
       "</style>\n",
       "<table border=\"1\" class=\"dataframe\">\n",
       "  <thead>\n",
       "    <tr style=\"text-align: right;\">\n",
       "      <th></th>\n",
       "      <th>Country</th>\n",
       "      <th>HappinessRank</th>\n",
       "      <th>Year</th>\n",
       "      <th>HappinessScore</th>\n",
       "      <th>Whisker.high</th>\n",
       "      <th>Whisker.low</th>\n",
       "      <th>GDP</th>\n",
       "      <th>Family</th>\n",
       "      <th>Life</th>\n",
       "      <th>Freedom</th>\n",
       "      <th>Generosity</th>\n",
       "      <th>Trust</th>\n",
       "      <th>Dystopia.Residual</th>\n",
       "    </tr>\n",
       "  </thead>\n",
       "  <tbody>\n",
       "    <tr>\n",
       "      <th>0</th>\n",
       "      <td>Norway</td>\n",
       "      <td>1</td>\n",
       "      <td>2017</td>\n",
       "      <td>7.537</td>\n",
       "      <td>7.594445</td>\n",
       "      <td>7.479556</td>\n",
       "      <td>1.616463</td>\n",
       "      <td>1.533524</td>\n",
       "      <td>0.796667</td>\n",
       "      <td>0.635423</td>\n",
       "      <td>0.362012</td>\n",
       "      <td>0.315964</td>\n",
       "      <td>2.277027</td>\n",
       "    </tr>\n",
       "    <tr>\n",
       "      <th>1</th>\n",
       "      <td>Denmark</td>\n",
       "      <td>2</td>\n",
       "      <td>2017</td>\n",
       "      <td>7.522</td>\n",
       "      <td>7.581728</td>\n",
       "      <td>7.462272</td>\n",
       "      <td>1.482383</td>\n",
       "      <td>1.551122</td>\n",
       "      <td>0.792566</td>\n",
       "      <td>0.626007</td>\n",
       "      <td>0.355280</td>\n",
       "      <td>0.400770</td>\n",
       "      <td>2.313707</td>\n",
       "    </tr>\n",
       "  </tbody>\n",
       "</table>\n",
       "</div>"
      ],
      "text/plain": [
       "   Country  HappinessRank  Year  HappinessScore  Whisker.high  Whisker.low  \\\n",
       "0   Norway              1  2017           7.537      7.594445     7.479556   \n",
       "1  Denmark              2  2017           7.522      7.581728     7.462272   \n",
       "\n",
       "        GDP    Family      Life   Freedom  Generosity     Trust  \\\n",
       "0  1.616463  1.533524  0.796667  0.635423    0.362012  0.315964   \n",
       "1  1.482383  1.551122  0.792566  0.626007    0.355280  0.400770   \n",
       "\n",
       "   Dystopia.Residual  \n",
       "0           2.277027  \n",
       "1           2.313707  "
      ]
     },
     "execution_count": 203,
     "metadata": {},
     "output_type": "execute_result"
    }
   ],
   "source": [
    "report17.head(2)"
   ]
  },
  {
   "cell_type": "code",
   "execution_count": 204,
   "id": "0664285f",
   "metadata": {},
   "outputs": [
    {
     "data": {
      "text/html": [
       "<div>\n",
       "<style scoped>\n",
       "    .dataframe tbody tr th:only-of-type {\n",
       "        vertical-align: middle;\n",
       "    }\n",
       "\n",
       "    .dataframe tbody tr th {\n",
       "        vertical-align: top;\n",
       "    }\n",
       "\n",
       "    .dataframe thead th {\n",
       "        text-align: right;\n",
       "    }\n",
       "</style>\n",
       "<table border=\"1\" class=\"dataframe\">\n",
       "  <thead>\n",
       "    <tr style=\"text-align: right;\">\n",
       "      <th></th>\n",
       "      <th>HappinessRank</th>\n",
       "      <th>Country</th>\n",
       "      <th>Year</th>\n",
       "      <th>HappinessScore</th>\n",
       "      <th>GDP</th>\n",
       "      <th>Family</th>\n",
       "      <th>Life</th>\n",
       "      <th>Freedom</th>\n",
       "      <th>Generosity</th>\n",
       "      <th>Trust</th>\n",
       "    </tr>\n",
       "  </thead>\n",
       "  <tbody>\n",
       "    <tr>\n",
       "      <th>0</th>\n",
       "      <td>1</td>\n",
       "      <td>Finland</td>\n",
       "      <td>2018</td>\n",
       "      <td>7.632</td>\n",
       "      <td>1.305</td>\n",
       "      <td>1.592</td>\n",
       "      <td>0.874</td>\n",
       "      <td>0.681</td>\n",
       "      <td>0.202</td>\n",
       "      <td>0.393</td>\n",
       "    </tr>\n",
       "    <tr>\n",
       "      <th>1</th>\n",
       "      <td>2</td>\n",
       "      <td>Norway</td>\n",
       "      <td>2018</td>\n",
       "      <td>7.594</td>\n",
       "      <td>1.456</td>\n",
       "      <td>1.582</td>\n",
       "      <td>0.861</td>\n",
       "      <td>0.686</td>\n",
       "      <td>0.286</td>\n",
       "      <td>0.340</td>\n",
       "    </tr>\n",
       "  </tbody>\n",
       "</table>\n",
       "</div>"
      ],
      "text/plain": [
       "   HappinessRank  Country  Year  HappinessScore    GDP  Family   Life  \\\n",
       "0              1  Finland  2018           7.632  1.305   1.592  0.874   \n",
       "1              2   Norway  2018           7.594  1.456   1.582  0.861   \n",
       "\n",
       "   Freedom  Generosity  Trust  \n",
       "0    0.681       0.202  0.393  \n",
       "1    0.686       0.286  0.340  "
      ]
     },
     "execution_count": 204,
     "metadata": {},
     "output_type": "execute_result"
    }
   ],
   "source": [
    "report18.head(2)"
   ]
  },
  {
   "cell_type": "code",
   "execution_count": 205,
   "id": "2f201277",
   "metadata": {},
   "outputs": [
    {
     "data": {
      "text/html": [
       "<div>\n",
       "<style scoped>\n",
       "    .dataframe tbody tr th:only-of-type {\n",
       "        vertical-align: middle;\n",
       "    }\n",
       "\n",
       "    .dataframe tbody tr th {\n",
       "        vertical-align: top;\n",
       "    }\n",
       "\n",
       "    .dataframe thead th {\n",
       "        text-align: right;\n",
       "    }\n",
       "</style>\n",
       "<table border=\"1\" class=\"dataframe\">\n",
       "  <thead>\n",
       "    <tr style=\"text-align: right;\">\n",
       "      <th></th>\n",
       "      <th>HappinessRank</th>\n",
       "      <th>Country</th>\n",
       "      <th>Year</th>\n",
       "      <th>HappinessScore</th>\n",
       "      <th>GDP</th>\n",
       "      <th>Family</th>\n",
       "      <th>Life</th>\n",
       "      <th>Freedom</th>\n",
       "      <th>Generosity</th>\n",
       "      <th>Trust</th>\n",
       "    </tr>\n",
       "  </thead>\n",
       "  <tbody>\n",
       "    <tr>\n",
       "      <th>0</th>\n",
       "      <td>1</td>\n",
       "      <td>Finland</td>\n",
       "      <td>2019</td>\n",
       "      <td>7.769</td>\n",
       "      <td>1.340</td>\n",
       "      <td>1.587</td>\n",
       "      <td>0.986</td>\n",
       "      <td>0.596</td>\n",
       "      <td>0.153</td>\n",
       "      <td>0.393</td>\n",
       "    </tr>\n",
       "    <tr>\n",
       "      <th>1</th>\n",
       "      <td>2</td>\n",
       "      <td>Denmark</td>\n",
       "      <td>2019</td>\n",
       "      <td>7.600</td>\n",
       "      <td>1.383</td>\n",
       "      <td>1.573</td>\n",
       "      <td>0.996</td>\n",
       "      <td>0.592</td>\n",
       "      <td>0.252</td>\n",
       "      <td>0.410</td>\n",
       "    </tr>\n",
       "  </tbody>\n",
       "</table>\n",
       "</div>"
      ],
      "text/plain": [
       "   HappinessRank  Country  Year  HappinessScore    GDP  Family   Life  \\\n",
       "0              1  Finland  2019           7.769  1.340   1.587  0.986   \n",
       "1              2  Denmark  2019           7.600  1.383   1.573  0.996   \n",
       "\n",
       "   Freedom  Generosity  Trust  \n",
       "0    0.596       0.153  0.393  \n",
       "1    0.592       0.252  0.410  "
      ]
     },
     "execution_count": 205,
     "metadata": {},
     "output_type": "execute_result"
    }
   ],
   "source": [
    "report19.head(2)"
   ]
  },
  {
   "cell_type": "code",
   "execution_count": 52,
   "id": "f01b495b",
   "metadata": {},
   "outputs": [],
   "source": [
    "#Bütün yıllardaki verilerin aynı formatta olması gerekiyor. Bu yüzden bütün raporlarda sadece asağıdaki ortak sütunlar kalacak.\n",
    "#HappinessRank, Country, Year, HappinessScore, GDP, Family, Life, Freedom, Generosity, Trust"
   ]
  },
  {
   "cell_type": "code",
   "execution_count": 206,
   "id": "77c3aeaa",
   "metadata": {},
   "outputs": [],
   "source": [
    "report15.drop([\"Standard Error\", \"Dystopia Residual\"], axis=1, inplace=True)\n",
    "report16.drop([\"Dystopia Residual\", \"Lower Confidence Interval\", \"Upper Confidence Interval\"], axis=1, inplace=True)\n",
    "report17.drop([\"Whisker.high\", \"Whisker.low\",\"Dystopia.Residual\"], axis=1, inplace=True)"
   ]
  },
  {
   "cell_type": "code",
   "execution_count": 207,
   "id": "41d1ce29",
   "metadata": {},
   "outputs": [],
   "source": [
    "#2017,2018 ve 2019 verilerinde bölgeler yok bunları ekliyorum."
   ]
  },
  {
   "cell_type": "code",
   "execution_count": 208,
   "id": "5e885b6c",
   "metadata": {},
   "outputs": [],
   "source": [
    "report17[\"Region\"] = None"
   ]
  },
  {
   "cell_type": "code",
   "execution_count": 209,
   "id": "226db36a",
   "metadata": {},
   "outputs": [],
   "source": [
    "temp = report17.set_index('Country').Region.fillna(report15.set_index('Country').Region).reset_index()"
   ]
  },
  {
   "cell_type": "code",
   "execution_count": 210,
   "id": "17fabf05",
   "metadata": {},
   "outputs": [],
   "source": [
    "report17.Region.fillna(temp[\"Region\"], inplace = True)"
   ]
  },
  {
   "cell_type": "code",
   "execution_count": 211,
   "id": "3fea28ac",
   "metadata": {},
   "outputs": [],
   "source": [
    "report18[\"Region\"] = None"
   ]
  },
  {
   "cell_type": "code",
   "execution_count": 212,
   "id": "f1384f34",
   "metadata": {},
   "outputs": [],
   "source": [
    "temp = report18.set_index('Country').Region.fillna(report15.set_index('Country').Region).reset_index()"
   ]
  },
  {
   "cell_type": "code",
   "execution_count": 213,
   "id": "2127544e",
   "metadata": {},
   "outputs": [],
   "source": [
    "report18.Region.fillna(temp[\"Region\"], inplace = True)"
   ]
  },
  {
   "cell_type": "code",
   "execution_count": 214,
   "id": "317d5109",
   "metadata": {},
   "outputs": [],
   "source": [
    "report19[\"Region\"] = None"
   ]
  },
  {
   "cell_type": "code",
   "execution_count": 215,
   "id": "0f6255df",
   "metadata": {},
   "outputs": [],
   "source": [
    "temp = report19.set_index('Country').Region.fillna(report15.set_index('Country').Region).reset_index()"
   ]
  },
  {
   "cell_type": "code",
   "execution_count": 216,
   "id": "ccf39eaf",
   "metadata": {},
   "outputs": [],
   "source": [
    "report19.Region.fillna(temp[\"Region\"], inplace = True)"
   ]
  },
  {
   "cell_type": "code",
   "execution_count": 217,
   "id": "bb6b15c3",
   "metadata": {},
   "outputs": [
    {
     "name": "stdout",
     "output_type": "stream",
     "text": [
      "Country           0\n",
      "Region            0\n",
      "Year              0\n",
      "HappinessRank     0\n",
      "HappinessScore    0\n",
      "GDP               0\n",
      "Family            0\n",
      "Life              0\n",
      "Freedom           0\n",
      "Trust             0\n",
      "Generosity        0\n",
      "dtype: int64\n",
      "Country           0\n",
      "Region            0\n",
      "Year              0\n",
      "HappinessRank     0\n",
      "HappinessScore    0\n",
      "GDP               0\n",
      "Family            0\n",
      "Life              0\n",
      "Freedom           0\n",
      "Trust             0\n",
      "Generosity        0\n",
      "dtype: int64\n",
      "Country           0\n",
      "HappinessRank     0\n",
      "Year              0\n",
      "HappinessScore    0\n",
      "GDP               0\n",
      "Family            0\n",
      "Life              0\n",
      "Freedom           0\n",
      "Generosity        0\n",
      "Trust             0\n",
      "Region            6\n",
      "dtype: int64\n",
      "HappinessRank     0\n",
      "Country           0\n",
      "Year              0\n",
      "HappinessScore    0\n",
      "GDP               0\n",
      "Family            0\n",
      "Life              0\n",
      "Freedom           0\n",
      "Generosity        0\n",
      "Trust             1\n",
      "Region            6\n",
      "dtype: int64\n",
      "HappinessRank     0\n",
      "Country           0\n",
      "Year              0\n",
      "HappinessScore    0\n",
      "GDP               0\n",
      "Family            0\n",
      "Life              0\n",
      "Freedom           0\n",
      "Generosity        0\n",
      "Trust             0\n",
      "Region            7\n",
      "dtype: int64\n"
     ]
    }
   ],
   "source": [
    "print(report15.isnull().sum())\n",
    "print(report16.isnull().sum())\n",
    "print(report17.isnull().sum())\n",
    "print(report18.isnull().sum())\n",
    "print(report19.isnull().sum())"
   ]
  },
  {
   "cell_type": "code",
   "execution_count": 218,
   "id": "21e73344",
   "metadata": {},
   "outputs": [
    {
     "data": {
      "text/html": [
       "<div>\n",
       "<style scoped>\n",
       "    .dataframe tbody tr th:only-of-type {\n",
       "        vertical-align: middle;\n",
       "    }\n",
       "\n",
       "    .dataframe tbody tr th {\n",
       "        vertical-align: top;\n",
       "    }\n",
       "\n",
       "    .dataframe thead th {\n",
       "        text-align: right;\n",
       "    }\n",
       "</style>\n",
       "<table border=\"1\" class=\"dataframe\">\n",
       "  <thead>\n",
       "    <tr style=\"text-align: right;\">\n",
       "      <th></th>\n",
       "      <th>Country</th>\n",
       "      <th>HappinessRank</th>\n",
       "      <th>Year</th>\n",
       "      <th>HappinessScore</th>\n",
       "      <th>GDP</th>\n",
       "      <th>Family</th>\n",
       "      <th>Life</th>\n",
       "      <th>Freedom</th>\n",
       "      <th>Generosity</th>\n",
       "      <th>Trust</th>\n",
       "      <th>Region</th>\n",
       "    </tr>\n",
       "  </thead>\n",
       "  <tbody>\n",
       "    <tr>\n",
       "      <th>32</th>\n",
       "      <td>Taiwan Province of China</td>\n",
       "      <td>33</td>\n",
       "      <td>2017</td>\n",
       "      <td>6.422</td>\n",
       "      <td>1.433627</td>\n",
       "      <td>1.384565</td>\n",
       "      <td>0.793984</td>\n",
       "      <td>0.361467</td>\n",
       "      <td>0.258360</td>\n",
       "      <td>0.063829</td>\n",
       "      <td>NaN</td>\n",
       "    </tr>\n",
       "    <tr>\n",
       "      <th>49</th>\n",
       "      <td>Belize</td>\n",
       "      <td>50</td>\n",
       "      <td>2017</td>\n",
       "      <td>5.956</td>\n",
       "      <td>0.907975</td>\n",
       "      <td>1.081418</td>\n",
       "      <td>0.450192</td>\n",
       "      <td>0.547509</td>\n",
       "      <td>0.240016</td>\n",
       "      <td>0.096581</td>\n",
       "      <td>NaN</td>\n",
       "    </tr>\n",
       "    <tr>\n",
       "      <th>70</th>\n",
       "      <td>Hong Kong S.A.R., China</td>\n",
       "      <td>71</td>\n",
       "      <td>2017</td>\n",
       "      <td>5.472</td>\n",
       "      <td>1.551675</td>\n",
       "      <td>1.262791</td>\n",
       "      <td>0.943062</td>\n",
       "      <td>0.490969</td>\n",
       "      <td>0.374466</td>\n",
       "      <td>0.293934</td>\n",
       "      <td>NaN</td>\n",
       "    </tr>\n",
       "    <tr>\n",
       "      <th>92</th>\n",
       "      <td>Somalia</td>\n",
       "      <td>93</td>\n",
       "      <td>2017</td>\n",
       "      <td>5.151</td>\n",
       "      <td>0.022643</td>\n",
       "      <td>0.721151</td>\n",
       "      <td>0.113989</td>\n",
       "      <td>0.602127</td>\n",
       "      <td>0.291631</td>\n",
       "      <td>0.282410</td>\n",
       "      <td>NaN</td>\n",
       "    </tr>\n",
       "    <tr>\n",
       "      <th>110</th>\n",
       "      <td>Namibia</td>\n",
       "      <td>111</td>\n",
       "      <td>2017</td>\n",
       "      <td>4.574</td>\n",
       "      <td>0.964434</td>\n",
       "      <td>1.098471</td>\n",
       "      <td>0.338612</td>\n",
       "      <td>0.520304</td>\n",
       "      <td>0.077134</td>\n",
       "      <td>0.093147</td>\n",
       "      <td>NaN</td>\n",
       "    </tr>\n",
       "    <tr>\n",
       "      <th>146</th>\n",
       "      <td>South Sudan</td>\n",
       "      <td>147</td>\n",
       "      <td>2017</td>\n",
       "      <td>3.591</td>\n",
       "      <td>0.397249</td>\n",
       "      <td>0.601323</td>\n",
       "      <td>0.163486</td>\n",
       "      <td>0.147062</td>\n",
       "      <td>0.285671</td>\n",
       "      <td>0.116794</td>\n",
       "      <td>NaN</td>\n",
       "    </tr>\n",
       "  </tbody>\n",
       "</table>\n",
       "</div>"
      ],
      "text/plain": [
       "                      Country  HappinessRank  Year  HappinessScore       GDP  \\\n",
       "32   Taiwan Province of China             33  2017           6.422  1.433627   \n",
       "49                     Belize             50  2017           5.956  0.907975   \n",
       "70    Hong Kong S.A.R., China             71  2017           5.472  1.551675   \n",
       "92                    Somalia             93  2017           5.151  0.022643   \n",
       "110                   Namibia            111  2017           4.574  0.964434   \n",
       "146               South Sudan            147  2017           3.591  0.397249   \n",
       "\n",
       "       Family      Life   Freedom  Generosity     Trust Region  \n",
       "32   1.384565  0.793984  0.361467    0.258360  0.063829    NaN  \n",
       "49   1.081418  0.450192  0.547509    0.240016  0.096581    NaN  \n",
       "70   1.262791  0.943062  0.490969    0.374466  0.293934    NaN  \n",
       "92   0.721151  0.113989  0.602127    0.291631  0.282410    NaN  \n",
       "110  1.098471  0.338612  0.520304    0.077134  0.093147    NaN  \n",
       "146  0.601323  0.163486  0.147062    0.285671  0.116794    NaN  "
      ]
     },
     "execution_count": 218,
     "metadata": {},
     "output_type": "execute_result"
    }
   ],
   "source": [
    "report17[report17.isnull().any(axis=1)]"
   ]
  },
  {
   "cell_type": "code",
   "execution_count": 219,
   "id": "d0486ba4",
   "metadata": {},
   "outputs": [],
   "source": [
    "report17.loc[32, [\"Region\"]] = \"Eastern Asia\"\n",
    "report17.loc[49, [\"Region\"]] = \"Latin America and Caribbean\"\n",
    "report17.loc[70, [\"Region\"]] = \"Eastern Asia\"\n",
    "report17.loc[92, [\"Region\"]] = \"Sub-Saharan Africa\"\n",
    "report17.loc[110, [\"Region\"]] = \"Sub-Saharan Africa\"\n",
    "report17.loc[146, [\"Region\"]] = \"Sub-Saharan Africa\""
   ]
  },
  {
   "cell_type": "code",
   "execution_count": 220,
   "id": "f1961ce4",
   "metadata": {},
   "outputs": [
    {
     "data": {
      "text/html": [
       "<div>\n",
       "<style scoped>\n",
       "    .dataframe tbody tr th:only-of-type {\n",
       "        vertical-align: middle;\n",
       "    }\n",
       "\n",
       "    .dataframe tbody tr th {\n",
       "        vertical-align: top;\n",
       "    }\n",
       "\n",
       "    .dataframe thead th {\n",
       "        text-align: right;\n",
       "    }\n",
       "</style>\n",
       "<table border=\"1\" class=\"dataframe\">\n",
       "  <thead>\n",
       "    <tr style=\"text-align: right;\">\n",
       "      <th></th>\n",
       "      <th>HappinessRank</th>\n",
       "      <th>Country</th>\n",
       "      <th>Year</th>\n",
       "      <th>HappinessScore</th>\n",
       "      <th>GDP</th>\n",
       "      <th>Family</th>\n",
       "      <th>Life</th>\n",
       "      <th>Freedom</th>\n",
       "      <th>Generosity</th>\n",
       "      <th>Trust</th>\n",
       "      <th>Region</th>\n",
       "    </tr>\n",
       "  </thead>\n",
       "  <tbody>\n",
       "    <tr>\n",
       "      <th>19</th>\n",
       "      <td>20</td>\n",
       "      <td>United Arab Emirates</td>\n",
       "      <td>2018</td>\n",
       "      <td>6.774</td>\n",
       "      <td>2.096</td>\n",
       "      <td>0.776</td>\n",
       "      <td>0.670</td>\n",
       "      <td>0.284</td>\n",
       "      <td>0.186</td>\n",
       "      <td>NaN</td>\n",
       "      <td>Middle East and Northern Africa</td>\n",
       "    </tr>\n",
       "    <tr>\n",
       "      <th>37</th>\n",
       "      <td>38</td>\n",
       "      <td>Trinidad &amp; Tobago</td>\n",
       "      <td>2018</td>\n",
       "      <td>6.192</td>\n",
       "      <td>1.223</td>\n",
       "      <td>1.492</td>\n",
       "      <td>0.564</td>\n",
       "      <td>0.575</td>\n",
       "      <td>0.171</td>\n",
       "      <td>0.019</td>\n",
       "      <td>NaN</td>\n",
       "    </tr>\n",
       "    <tr>\n",
       "      <th>48</th>\n",
       "      <td>49</td>\n",
       "      <td>Belize</td>\n",
       "      <td>2018</td>\n",
       "      <td>5.956</td>\n",
       "      <td>0.807</td>\n",
       "      <td>1.101</td>\n",
       "      <td>0.474</td>\n",
       "      <td>0.593</td>\n",
       "      <td>0.183</td>\n",
       "      <td>0.089</td>\n",
       "      <td>NaN</td>\n",
       "    </tr>\n",
       "    <tr>\n",
       "      <th>57</th>\n",
       "      <td>58</td>\n",
       "      <td>Northern Cyprus</td>\n",
       "      <td>2018</td>\n",
       "      <td>5.835</td>\n",
       "      <td>1.229</td>\n",
       "      <td>1.211</td>\n",
       "      <td>0.909</td>\n",
       "      <td>0.495</td>\n",
       "      <td>0.179</td>\n",
       "      <td>0.154</td>\n",
       "      <td>NaN</td>\n",
       "    </tr>\n",
       "    <tr>\n",
       "      <th>97</th>\n",
       "      <td>98</td>\n",
       "      <td>Somalia</td>\n",
       "      <td>2018</td>\n",
       "      <td>4.982</td>\n",
       "      <td>0.000</td>\n",
       "      <td>0.712</td>\n",
       "      <td>0.115</td>\n",
       "      <td>0.674</td>\n",
       "      <td>0.238</td>\n",
       "      <td>0.282</td>\n",
       "      <td>NaN</td>\n",
       "    </tr>\n",
       "    <tr>\n",
       "      <th>118</th>\n",
       "      <td>119</td>\n",
       "      <td>Namibia</td>\n",
       "      <td>2018</td>\n",
       "      <td>4.441</td>\n",
       "      <td>0.874</td>\n",
       "      <td>1.281</td>\n",
       "      <td>0.365</td>\n",
       "      <td>0.519</td>\n",
       "      <td>0.051</td>\n",
       "      <td>0.064</td>\n",
       "      <td>NaN</td>\n",
       "    </tr>\n",
       "    <tr>\n",
       "      <th>153</th>\n",
       "      <td>154</td>\n",
       "      <td>South Sudan</td>\n",
       "      <td>2018</td>\n",
       "      <td>3.254</td>\n",
       "      <td>0.337</td>\n",
       "      <td>0.608</td>\n",
       "      <td>0.177</td>\n",
       "      <td>0.112</td>\n",
       "      <td>0.224</td>\n",
       "      <td>0.106</td>\n",
       "      <td>NaN</td>\n",
       "    </tr>\n",
       "  </tbody>\n",
       "</table>\n",
       "</div>"
      ],
      "text/plain": [
       "     HappinessRank               Country  Year  HappinessScore    GDP  Family  \\\n",
       "19              20  United Arab Emirates  2018           6.774  2.096   0.776   \n",
       "37              38     Trinidad & Tobago  2018           6.192  1.223   1.492   \n",
       "48              49                Belize  2018           5.956  0.807   1.101   \n",
       "57              58       Northern Cyprus  2018           5.835  1.229   1.211   \n",
       "97              98               Somalia  2018           4.982  0.000   0.712   \n",
       "118            119               Namibia  2018           4.441  0.874   1.281   \n",
       "153            154           South Sudan  2018           3.254  0.337   0.608   \n",
       "\n",
       "      Life  Freedom  Generosity  Trust                           Region  \n",
       "19   0.670    0.284       0.186    NaN  Middle East and Northern Africa  \n",
       "37   0.564    0.575       0.171  0.019                              NaN  \n",
       "48   0.474    0.593       0.183  0.089                              NaN  \n",
       "57   0.909    0.495       0.179  0.154                              NaN  \n",
       "97   0.115    0.674       0.238  0.282                              NaN  \n",
       "118  0.365    0.519       0.051  0.064                              NaN  \n",
       "153  0.177    0.112       0.224  0.106                              NaN  "
      ]
     },
     "execution_count": 220,
     "metadata": {},
     "output_type": "execute_result"
    }
   ],
   "source": [
    "report18[report18.isnull().any(axis=1)]"
   ]
  },
  {
   "cell_type": "code",
   "execution_count": 221,
   "id": "aff2a7e1",
   "metadata": {},
   "outputs": [],
   "source": [
    "report18.drop([19], axis=0, inplace=True)"
   ]
  },
  {
   "cell_type": "code",
   "execution_count": 222,
   "id": "d455150d",
   "metadata": {},
   "outputs": [],
   "source": [
    "report18.loc[37, [\"Region\"]] = \"Latin America and Caribbean\"\n",
    "report18.loc[48, [\"Region\"]] = \"Latin America and Caribbean\"\n",
    "report18.loc[57, [\"Region\"]] = \"Middle East and Northern Africa\"\n",
    "report18.loc[97, [\"Region\"]] = \"Sub-Saharan Africa\"\n",
    "report18.loc[118, [\"Region\"]] = \"Sub-Saharan Africa\"\n",
    "report18.loc[153, [\"Region\"]] = \"Sub-Saharan Africa\""
   ]
  },
  {
   "cell_type": "code",
   "execution_count": 223,
   "id": "fb0777cc",
   "metadata": {},
   "outputs": [
    {
     "data": {
      "text/html": [
       "<div>\n",
       "<style scoped>\n",
       "    .dataframe tbody tr th:only-of-type {\n",
       "        vertical-align: middle;\n",
       "    }\n",
       "\n",
       "    .dataframe tbody tr th {\n",
       "        vertical-align: top;\n",
       "    }\n",
       "\n",
       "    .dataframe thead th {\n",
       "        text-align: right;\n",
       "    }\n",
       "</style>\n",
       "<table border=\"1\" class=\"dataframe\">\n",
       "  <thead>\n",
       "    <tr style=\"text-align: right;\">\n",
       "      <th></th>\n",
       "      <th>HappinessRank</th>\n",
       "      <th>Country</th>\n",
       "      <th>Year</th>\n",
       "      <th>HappinessScore</th>\n",
       "      <th>GDP</th>\n",
       "      <th>Family</th>\n",
       "      <th>Life</th>\n",
       "      <th>Freedom</th>\n",
       "      <th>Generosity</th>\n",
       "      <th>Trust</th>\n",
       "      <th>Region</th>\n",
       "    </tr>\n",
       "  </thead>\n",
       "  <tbody>\n",
       "    <tr>\n",
       "      <th>38</th>\n",
       "      <td>39</td>\n",
       "      <td>Trinidad &amp; Tobago</td>\n",
       "      <td>2019</td>\n",
       "      <td>6.192</td>\n",
       "      <td>1.231</td>\n",
       "      <td>1.477</td>\n",
       "      <td>0.713</td>\n",
       "      <td>0.489</td>\n",
       "      <td>0.185</td>\n",
       "      <td>0.016</td>\n",
       "      <td>NaN</td>\n",
       "    </tr>\n",
       "    <tr>\n",
       "      <th>63</th>\n",
       "      <td>64</td>\n",
       "      <td>Northern Cyprus</td>\n",
       "      <td>2019</td>\n",
       "      <td>5.718</td>\n",
       "      <td>1.263</td>\n",
       "      <td>1.252</td>\n",
       "      <td>1.042</td>\n",
       "      <td>0.417</td>\n",
       "      <td>0.191</td>\n",
       "      <td>0.162</td>\n",
       "      <td>NaN</td>\n",
       "    </tr>\n",
       "    <tr>\n",
       "      <th>83</th>\n",
       "      <td>84</td>\n",
       "      <td>North Macedonia</td>\n",
       "      <td>2019</td>\n",
       "      <td>5.274</td>\n",
       "      <td>0.983</td>\n",
       "      <td>1.294</td>\n",
       "      <td>0.838</td>\n",
       "      <td>0.345</td>\n",
       "      <td>0.185</td>\n",
       "      <td>0.034</td>\n",
       "      <td>NaN</td>\n",
       "    </tr>\n",
       "    <tr>\n",
       "      <th>111</th>\n",
       "      <td>112</td>\n",
       "      <td>Somalia</td>\n",
       "      <td>2019</td>\n",
       "      <td>4.668</td>\n",
       "      <td>0.000</td>\n",
       "      <td>0.698</td>\n",
       "      <td>0.268</td>\n",
       "      <td>0.559</td>\n",
       "      <td>0.243</td>\n",
       "      <td>0.270</td>\n",
       "      <td>NaN</td>\n",
       "    </tr>\n",
       "    <tr>\n",
       "      <th>112</th>\n",
       "      <td>113</td>\n",
       "      <td>Namibia</td>\n",
       "      <td>2019</td>\n",
       "      <td>4.639</td>\n",
       "      <td>0.879</td>\n",
       "      <td>1.313</td>\n",
       "      <td>0.477</td>\n",
       "      <td>0.401</td>\n",
       "      <td>0.070</td>\n",
       "      <td>0.056</td>\n",
       "      <td>NaN</td>\n",
       "    </tr>\n",
       "    <tr>\n",
       "      <th>119</th>\n",
       "      <td>120</td>\n",
       "      <td>Gambia</td>\n",
       "      <td>2019</td>\n",
       "      <td>4.516</td>\n",
       "      <td>0.308</td>\n",
       "      <td>0.939</td>\n",
       "      <td>0.428</td>\n",
       "      <td>0.382</td>\n",
       "      <td>0.269</td>\n",
       "      <td>0.167</td>\n",
       "      <td>NaN</td>\n",
       "    </tr>\n",
       "    <tr>\n",
       "      <th>155</th>\n",
       "      <td>156</td>\n",
       "      <td>South Sudan</td>\n",
       "      <td>2019</td>\n",
       "      <td>2.853</td>\n",
       "      <td>0.306</td>\n",
       "      <td>0.575</td>\n",
       "      <td>0.295</td>\n",
       "      <td>0.010</td>\n",
       "      <td>0.202</td>\n",
       "      <td>0.091</td>\n",
       "      <td>NaN</td>\n",
       "    </tr>\n",
       "  </tbody>\n",
       "</table>\n",
       "</div>"
      ],
      "text/plain": [
       "     HappinessRank            Country  Year  HappinessScore    GDP  Family  \\\n",
       "38              39  Trinidad & Tobago  2019           6.192  1.231   1.477   \n",
       "63              64    Northern Cyprus  2019           5.718  1.263   1.252   \n",
       "83              84    North Macedonia  2019           5.274  0.983   1.294   \n",
       "111            112            Somalia  2019           4.668  0.000   0.698   \n",
       "112            113            Namibia  2019           4.639  0.879   1.313   \n",
       "119            120             Gambia  2019           4.516  0.308   0.939   \n",
       "155            156        South Sudan  2019           2.853  0.306   0.575   \n",
       "\n",
       "      Life  Freedom  Generosity  Trust Region  \n",
       "38   0.713    0.489       0.185  0.016    NaN  \n",
       "63   1.042    0.417       0.191  0.162    NaN  \n",
       "83   0.838    0.345       0.185  0.034    NaN  \n",
       "111  0.268    0.559       0.243  0.270    NaN  \n",
       "112  0.477    0.401       0.070  0.056    NaN  \n",
       "119  0.428    0.382       0.269  0.167    NaN  \n",
       "155  0.295    0.010       0.202  0.091    NaN  "
      ]
     },
     "execution_count": 223,
     "metadata": {},
     "output_type": "execute_result"
    }
   ],
   "source": [
    "report19[report19.isnull().any(axis=1)]"
   ]
  },
  {
   "cell_type": "code",
   "execution_count": 224,
   "id": "56f0d832",
   "metadata": {},
   "outputs": [],
   "source": [
    "report19.loc[38, [\"Region\"]] = \"Latin America and Caribbean\"\n",
    "report19.loc[63, [\"Region\"]] = \"Middle East and Northern Africa\"\n",
    "report19.loc[83, [\"Region\"]] = \"Central and Eastern Europe\"\n",
    "report19.loc[111, [\"Region\"]] = \"Sub-Saharan Africa\"\n",
    "report19.loc[112, [\"Region\"]] = \"Sub-Saharan Africa\"\n",
    "report19.loc[119, [\"Region\"]] = \"Sub-Saharan Africa\"\n",
    "report19.loc[155, [\"Region\"]] = \"Sub-Saharan Africa\""
   ]
  },
  {
   "cell_type": "code",
   "execution_count": 226,
   "id": "b0dbb402",
   "metadata": {},
   "outputs": [
    {
     "data": {
      "text/html": [
       "<div>\n",
       "<style scoped>\n",
       "    .dataframe tbody tr th:only-of-type {\n",
       "        vertical-align: middle;\n",
       "    }\n",
       "\n",
       "    .dataframe tbody tr th {\n",
       "        vertical-align: top;\n",
       "    }\n",
       "\n",
       "    .dataframe thead th {\n",
       "        text-align: right;\n",
       "    }\n",
       "</style>\n",
       "<table border=\"1\" class=\"dataframe\">\n",
       "  <thead>\n",
       "    <tr style=\"text-align: right;\">\n",
       "      <th></th>\n",
       "      <th>index</th>\n",
       "      <th>Country</th>\n",
       "      <th>Region</th>\n",
       "      <th>Year</th>\n",
       "      <th>HappinessRank</th>\n",
       "      <th>HappinessScore</th>\n",
       "      <th>GDP</th>\n",
       "      <th>Family</th>\n",
       "      <th>Life</th>\n",
       "      <th>Freedom</th>\n",
       "      <th>Trust</th>\n",
       "      <th>Generosity</th>\n",
       "    </tr>\n",
       "  </thead>\n",
       "  <tbody>\n",
       "    <tr>\n",
       "      <th>0</th>\n",
       "      <td>0</td>\n",
       "      <td>Switzerland</td>\n",
       "      <td>Western Europe</td>\n",
       "      <td>2015</td>\n",
       "      <td>1</td>\n",
       "      <td>7.587</td>\n",
       "      <td>1.39651</td>\n",
       "      <td>1.34951</td>\n",
       "      <td>0.94143</td>\n",
       "      <td>0.66557</td>\n",
       "      <td>0.41978</td>\n",
       "      <td>0.29678</td>\n",
       "    </tr>\n",
       "    <tr>\n",
       "      <th>1</th>\n",
       "      <td>1</td>\n",
       "      <td>Iceland</td>\n",
       "      <td>Western Europe</td>\n",
       "      <td>2015</td>\n",
       "      <td>2</td>\n",
       "      <td>7.561</td>\n",
       "      <td>1.30232</td>\n",
       "      <td>1.40223</td>\n",
       "      <td>0.94784</td>\n",
       "      <td>0.62877</td>\n",
       "      <td>0.14145</td>\n",
       "      <td>0.43630</td>\n",
       "    </tr>\n",
       "  </tbody>\n",
       "</table>\n",
       "</div>"
      ],
      "text/plain": [
       "   index      Country          Region  Year  HappinessRank  HappinessScore  \\\n",
       "0      0  Switzerland  Western Europe  2015              1           7.587   \n",
       "1      1      Iceland  Western Europe  2015              2           7.561   \n",
       "\n",
       "       GDP   Family     Life  Freedom    Trust  Generosity  \n",
       "0  1.39651  1.34951  0.94143  0.66557  0.41978     0.29678  \n",
       "1  1.30232  1.40223  0.94784  0.62877  0.14145     0.43630  "
      ]
     },
     "execution_count": 226,
     "metadata": {},
     "output_type": "execute_result"
    }
   ],
   "source": [
    "report = pd.concat([report15, report16, report17, report18, report19]).reset_index()\n",
    "report.head(2)"
   ]
  },
  {
   "cell_type": "code",
   "execution_count": 227,
   "id": "6d272b66",
   "metadata": {},
   "outputs": [
    {
     "data": {
      "text/plain": [
       "index             0\n",
       "Country           0\n",
       "Region            0\n",
       "Year              0\n",
       "HappinessRank     0\n",
       "HappinessScore    0\n",
       "GDP               0\n",
       "Family            0\n",
       "Life              0\n",
       "Freedom           0\n",
       "Trust             0\n",
       "Generosity        0\n",
       "dtype: int64"
      ]
     },
     "execution_count": 227,
     "metadata": {},
     "output_type": "execute_result"
    }
   ],
   "source": [
    "report.isnull().sum()"
   ]
  },
  {
   "cell_type": "markdown",
   "id": "24e0c30e",
   "metadata": {},
   "source": [
    "# Veri Keşfi"
   ]
  },
  {
   "cell_type": "code",
   "execution_count": 228,
   "id": "885b9b70",
   "metadata": {},
   "outputs": [
    {
     "data": {
      "text/html": [
       "<div>\n",
       "<style scoped>\n",
       "    .dataframe tbody tr th:only-of-type {\n",
       "        vertical-align: middle;\n",
       "    }\n",
       "\n",
       "    .dataframe tbody tr th {\n",
       "        vertical-align: top;\n",
       "    }\n",
       "\n",
       "    .dataframe thead th {\n",
       "        text-align: right;\n",
       "    }\n",
       "</style>\n",
       "<table border=\"1\" class=\"dataframe\">\n",
       "  <thead>\n",
       "    <tr style=\"text-align: right;\">\n",
       "      <th></th>\n",
       "      <th>index</th>\n",
       "      <th>Year</th>\n",
       "      <th>HappinessRank</th>\n",
       "      <th>HappinessScore</th>\n",
       "      <th>GDP</th>\n",
       "      <th>Family</th>\n",
       "      <th>Life</th>\n",
       "      <th>Freedom</th>\n",
       "      <th>Trust</th>\n",
       "      <th>Generosity</th>\n",
       "    </tr>\n",
       "  </thead>\n",
       "  <tbody>\n",
       "    <tr>\n",
       "      <th>index</th>\n",
       "      <td>1.000000</td>\n",
       "      <td>-0.006694</td>\n",
       "      <td>0.999999</td>\n",
       "      <td>-0.992059</td>\n",
       "      <td>-0.795078</td>\n",
       "      <td>-0.647491</td>\n",
       "      <td>-0.744080</td>\n",
       "      <td>-0.540233</td>\n",
       "      <td>-0.372820</td>\n",
       "      <td>-0.118290</td>\n",
       "    </tr>\n",
       "    <tr>\n",
       "      <th>Year</th>\n",
       "      <td>-0.006694</td>\n",
       "      <td>1.000000</td>\n",
       "      <td>-0.006594</td>\n",
       "      <td>0.005946</td>\n",
       "      <td>0.017230</td>\n",
       "      <td>0.368585</td>\n",
       "      <td>0.130138</td>\n",
       "      <td>0.011118</td>\n",
       "      <td>-0.122264</td>\n",
       "      <td>-0.192416</td>\n",
       "    </tr>\n",
       "    <tr>\n",
       "      <th>HappinessRank</th>\n",
       "      <td>0.999999</td>\n",
       "      <td>-0.006594</td>\n",
       "      <td>1.000000</td>\n",
       "      <td>-0.992053</td>\n",
       "      <td>-0.795110</td>\n",
       "      <td>-0.647420</td>\n",
       "      <td>-0.744099</td>\n",
       "      <td>-0.540151</td>\n",
       "      <td>-0.372781</td>\n",
       "      <td>-0.118290</td>\n",
       "    </tr>\n",
       "    <tr>\n",
       "      <th>HappinessScore</th>\n",
       "      <td>-0.992059</td>\n",
       "      <td>0.005946</td>\n",
       "      <td>-0.992053</td>\n",
       "      <td>1.000000</td>\n",
       "      <td>0.789719</td>\n",
       "      <td>0.651246</td>\n",
       "      <td>0.742843</td>\n",
       "      <td>0.553365</td>\n",
       "      <td>0.398418</td>\n",
       "      <td>0.138142</td>\n",
       "    </tr>\n",
       "    <tr>\n",
       "      <th>GDP</th>\n",
       "      <td>-0.795078</td>\n",
       "      <td>0.017230</td>\n",
       "      <td>-0.795110</td>\n",
       "      <td>0.789719</td>\n",
       "      <td>1.000000</td>\n",
       "      <td>0.592889</td>\n",
       "      <td>0.787752</td>\n",
       "      <td>0.345615</td>\n",
       "      <td>0.306307</td>\n",
       "      <td>-0.013646</td>\n",
       "    </tr>\n",
       "    <tr>\n",
       "      <th>Family</th>\n",
       "      <td>-0.647491</td>\n",
       "      <td>0.368585</td>\n",
       "      <td>-0.647420</td>\n",
       "      <td>0.651246</td>\n",
       "      <td>0.592889</td>\n",
       "      <td>1.000000</td>\n",
       "      <td>0.573252</td>\n",
       "      <td>0.419795</td>\n",
       "      <td>0.126401</td>\n",
       "      <td>-0.037597</td>\n",
       "    </tr>\n",
       "    <tr>\n",
       "      <th>Life</th>\n",
       "      <td>-0.744080</td>\n",
       "      <td>0.130138</td>\n",
       "      <td>-0.744099</td>\n",
       "      <td>0.742843</td>\n",
       "      <td>0.787752</td>\n",
       "      <td>0.573252</td>\n",
       "      <td>1.000000</td>\n",
       "      <td>0.341155</td>\n",
       "      <td>0.250512</td>\n",
       "      <td>0.010718</td>\n",
       "    </tr>\n",
       "    <tr>\n",
       "      <th>Freedom</th>\n",
       "      <td>-0.540233</td>\n",
       "      <td>0.011118</td>\n",
       "      <td>-0.540151</td>\n",
       "      <td>0.553365</td>\n",
       "      <td>0.345615</td>\n",
       "      <td>0.419795</td>\n",
       "      <td>0.341155</td>\n",
       "      <td>1.000000</td>\n",
       "      <td>0.459593</td>\n",
       "      <td>0.290564</td>\n",
       "    </tr>\n",
       "    <tr>\n",
       "      <th>Trust</th>\n",
       "      <td>-0.372820</td>\n",
       "      <td>-0.122264</td>\n",
       "      <td>-0.372781</td>\n",
       "      <td>0.398418</td>\n",
       "      <td>0.306307</td>\n",
       "      <td>0.126401</td>\n",
       "      <td>0.250512</td>\n",
       "      <td>0.459593</td>\n",
       "      <td>1.000000</td>\n",
       "      <td>0.318920</td>\n",
       "    </tr>\n",
       "    <tr>\n",
       "      <th>Generosity</th>\n",
       "      <td>-0.118290</td>\n",
       "      <td>-0.192416</td>\n",
       "      <td>-0.118290</td>\n",
       "      <td>0.138142</td>\n",
       "      <td>-0.013646</td>\n",
       "      <td>-0.037597</td>\n",
       "      <td>0.010718</td>\n",
       "      <td>0.290564</td>\n",
       "      <td>0.318920</td>\n",
       "      <td>1.000000</td>\n",
       "    </tr>\n",
       "  </tbody>\n",
       "</table>\n",
       "</div>"
      ],
      "text/plain": [
       "                   index      Year  HappinessRank  HappinessScore       GDP  \\\n",
       "index           1.000000 -0.006694       0.999999       -0.992059 -0.795078   \n",
       "Year           -0.006694  1.000000      -0.006594        0.005946  0.017230   \n",
       "HappinessRank   0.999999 -0.006594       1.000000       -0.992053 -0.795110   \n",
       "HappinessScore -0.992059  0.005946      -0.992053        1.000000  0.789719   \n",
       "GDP            -0.795078  0.017230      -0.795110        0.789719  1.000000   \n",
       "Family         -0.647491  0.368585      -0.647420        0.651246  0.592889   \n",
       "Life           -0.744080  0.130138      -0.744099        0.742843  0.787752   \n",
       "Freedom        -0.540233  0.011118      -0.540151        0.553365  0.345615   \n",
       "Trust          -0.372820 -0.122264      -0.372781        0.398418  0.306307   \n",
       "Generosity     -0.118290 -0.192416      -0.118290        0.138142 -0.013646   \n",
       "\n",
       "                  Family      Life   Freedom     Trust  Generosity  \n",
       "index          -0.647491 -0.744080 -0.540233 -0.372820   -0.118290  \n",
       "Year            0.368585  0.130138  0.011118 -0.122264   -0.192416  \n",
       "HappinessRank  -0.647420 -0.744099 -0.540151 -0.372781   -0.118290  \n",
       "HappinessScore  0.651246  0.742843  0.553365  0.398418    0.138142  \n",
       "GDP             0.592889  0.787752  0.345615  0.306307   -0.013646  \n",
       "Family          1.000000  0.573252  0.419795  0.126401   -0.037597  \n",
       "Life            0.573252  1.000000  0.341155  0.250512    0.010718  \n",
       "Freedom         0.419795  0.341155  1.000000  0.459593    0.290564  \n",
       "Trust           0.126401  0.250512  0.459593  1.000000    0.318920  \n",
       "Generosity     -0.037597  0.010718  0.290564  0.318920    1.000000  "
      ]
     },
     "execution_count": 228,
     "metadata": {},
     "output_type": "execute_result"
    }
   ],
   "source": [
    "report.corr()"
   ]
  },
  {
   "cell_type": "code",
   "execution_count": 229,
   "id": "65ed5fba",
   "metadata": {},
   "outputs": [
    {
     "data": {
      "text/plain": [
       "Text(0.5, 1.0, 'Correlation Heatmap')"
      ]
     },
     "execution_count": 229,
     "metadata": {},
     "output_type": "execute_result"
    },
    {
     "data": {
      "image/png": "[encoded data removed]",
      "text/plain": [
       "<Figure size 1152x432 with 2 Axes>"
      ]
     },
     "metadata": {
      "needs_background": "light"
     },
     "output_type": "display_data"
    }
   ],
   "source": [
    "plt.figure(figsize = (16, 6))\n",
    "heatmap = sns.heatmap(report.corr(), vmin = -1, vmax = 1, annot = True)\n",
    "heatmap.set_title('Correlation Heatmap', fontdict = {'fontsize': 12}, pad = 12)"
   ]
  },
  {
   "cell_type": "markdown",
   "id": "8c2cad1d",
   "metadata": {},
   "source": [
    "### 2015 ve 2019 verilerinin karşılaştırılması"
   ]
  },
  {
   "cell_type": "code",
   "execution_count": 230,
   "id": "f77d2d85",
   "metadata": {},
   "outputs": [],
   "source": [
    "report1519 = report19.merge(report15, left_on = \"Country\", right_on = \"Country\", suffixes=('_19', '_15'))"
   ]
  },
  {
   "cell_type": "code",
   "execution_count": 231,
   "id": "51d69e0b",
   "metadata": {},
   "outputs": [
    {
     "data": {
      "text/html": [
       "<div>\n",
       "<style scoped>\n",
       "    .dataframe tbody tr th:only-of-type {\n",
       "        vertical-align: middle;\n",
       "    }\n",
       "\n",
       "    .dataframe tbody tr th {\n",
       "        vertical-align: top;\n",
       "    }\n",
       "\n",
       "    .dataframe thead th {\n",
       "        text-align: right;\n",
       "    }\n",
       "</style>\n",
       "<table border=\"1\" class=\"dataframe\">\n",
       "  <thead>\n",
       "    <tr style=\"text-align: right;\">\n",
       "      <th></th>\n",
       "      <th>HappinessRank_19</th>\n",
       "      <th>Country</th>\n",
       "      <th>Year_19</th>\n",
       "      <th>HappinessScore_19</th>\n",
       "      <th>GDP_19</th>\n",
       "      <th>Family_19</th>\n",
       "      <th>Life_19</th>\n",
       "      <th>Freedom_19</th>\n",
       "      <th>Generosity_19</th>\n",
       "      <th>Trust_19</th>\n",
       "      <th>Region_19</th>\n",
       "      <th>Region_15</th>\n",
       "      <th>Year_15</th>\n",
       "      <th>HappinessRank_15</th>\n",
       "      <th>HappinessScore_15</th>\n",
       "      <th>GDP_15</th>\n",
       "      <th>Family_15</th>\n",
       "      <th>Life_15</th>\n",
       "      <th>Freedom_15</th>\n",
       "      <th>Trust_15</th>\n",
       "      <th>Generosity_15</th>\n",
       "    </tr>\n",
       "  </thead>\n",
       "  <tbody>\n",
       "    <tr>\n",
       "      <th>0</th>\n",
       "      <td>1</td>\n",
       "      <td>Finland</td>\n",
       "      <td>2019</td>\n",
       "      <td>7.769</td>\n",
       "      <td>1.340</td>\n",
       "      <td>1.587</td>\n",
       "      <td>0.986</td>\n",
       "      <td>0.596</td>\n",
       "      <td>0.153</td>\n",
       "      <td>0.393</td>\n",
       "      <td>Western Europe</td>\n",
       "      <td>Western Europe</td>\n",
       "      <td>2015</td>\n",
       "      <td>6</td>\n",
       "      <td>7.406</td>\n",
       "      <td>1.29025</td>\n",
       "      <td>1.31826</td>\n",
       "      <td>0.88911</td>\n",
       "      <td>0.64169</td>\n",
       "      <td>0.41372</td>\n",
       "      <td>0.23351</td>\n",
       "    </tr>\n",
       "    <tr>\n",
       "      <th>1</th>\n",
       "      <td>2</td>\n",
       "      <td>Denmark</td>\n",
       "      <td>2019</td>\n",
       "      <td>7.600</td>\n",
       "      <td>1.383</td>\n",
       "      <td>1.573</td>\n",
       "      <td>0.996</td>\n",
       "      <td>0.592</td>\n",
       "      <td>0.252</td>\n",
       "      <td>0.410</td>\n",
       "      <td>Western Europe</td>\n",
       "      <td>Western Europe</td>\n",
       "      <td>2015</td>\n",
       "      <td>3</td>\n",
       "      <td>7.527</td>\n",
       "      <td>1.32548</td>\n",
       "      <td>1.36058</td>\n",
       "      <td>0.87464</td>\n",
       "      <td>0.64938</td>\n",
       "      <td>0.48357</td>\n",
       "      <td>0.34139</td>\n",
       "    </tr>\n",
       "  </tbody>\n",
       "</table>\n",
       "</div>"
      ],
      "text/plain": [
       "   HappinessRank_19  Country  Year_19  HappinessScore_19  GDP_19  Family_19  \\\n",
       "0                 1  Finland     2019              7.769   1.340      1.587   \n",
       "1                 2  Denmark     2019              7.600   1.383      1.573   \n",
       "\n",
       "   Life_19  Freedom_19  Generosity_19  Trust_19       Region_19  \\\n",
       "0    0.986       0.596          0.153     0.393  Western Europe   \n",
       "1    0.996       0.592          0.252     0.410  Western Europe   \n",
       "\n",
       "        Region_15  Year_15  HappinessRank_15  HappinessScore_15   GDP_15  \\\n",
       "0  Western Europe     2015                 6              7.406  1.29025   \n",
       "1  Western Europe     2015                 3              7.527  1.32548   \n",
       "\n",
       "   Family_15  Life_15  Freedom_15  Trust_15  Generosity_15  \n",
       "0    1.31826  0.88911     0.64169   0.41372        0.23351  \n",
       "1    1.36058  0.87464     0.64938   0.48357        0.34139  "
      ]
     },
     "execution_count": 231,
     "metadata": {},
     "output_type": "execute_result"
    }
   ],
   "source": [
    "report1519.head(2)"
   ]
  },
  {
   "cell_type": "code",
   "execution_count": 232,
   "id": "6407c642",
   "metadata": {},
   "outputs": [],
   "source": [
    "report1519[\"change\"] = report1519[\"HappinessScore_19\"] - report1519[\"HappinessScore_15\"]"
   ]
  },
  {
   "cell_type": "code",
   "execution_count": 233,
   "id": "36b44699",
   "metadata": {},
   "outputs": [
    {
     "data": {
      "text/html": [
       "<div>\n",
       "<style scoped>\n",
       "    .dataframe tbody tr th:only-of-type {\n",
       "        vertical-align: middle;\n",
       "    }\n",
       "\n",
       "    .dataframe tbody tr th {\n",
       "        vertical-align: top;\n",
       "    }\n",
       "\n",
       "    .dataframe thead th {\n",
       "        text-align: right;\n",
       "    }\n",
       "</style>\n",
       "<table border=\"1\" class=\"dataframe\">\n",
       "  <thead>\n",
       "    <tr style=\"text-align: right;\">\n",
       "      <th></th>\n",
       "      <th>HappinessRank_19</th>\n",
       "      <th>Country</th>\n",
       "      <th>Year_19</th>\n",
       "      <th>HappinessScore_19</th>\n",
       "      <th>GDP_19</th>\n",
       "      <th>Family_19</th>\n",
       "      <th>Life_19</th>\n",
       "      <th>Freedom_19</th>\n",
       "      <th>Generosity_19</th>\n",
       "      <th>Trust_19</th>\n",
       "      <th>Region_19</th>\n",
       "      <th>Region_15</th>\n",
       "      <th>Year_15</th>\n",
       "      <th>HappinessRank_15</th>\n",
       "      <th>HappinessScore_15</th>\n",
       "      <th>GDP_15</th>\n",
       "      <th>Family_15</th>\n",
       "      <th>Life_15</th>\n",
       "      <th>Freedom_15</th>\n",
       "      <th>Trust_15</th>\n",
       "      <th>Generosity_15</th>\n",
       "      <th>change</th>\n",
       "    </tr>\n",
       "  </thead>\n",
       "  <tbody>\n",
       "    <tr>\n",
       "      <th>98</th>\n",
       "      <td>102</td>\n",
       "      <td>Benin</td>\n",
       "      <td>2019</td>\n",
       "      <td>4.883</td>\n",
       "      <td>0.393</td>\n",
       "      <td>0.437</td>\n",
       "      <td>0.397</td>\n",
       "      <td>0.349</td>\n",
       "      <td>0.175</td>\n",
       "      <td>0.082</td>\n",
       "      <td>Sub-Saharan Africa</td>\n",
       "      <td>Sub-Saharan Africa</td>\n",
       "      <td>2015</td>\n",
       "      <td>155</td>\n",
       "      <td>3.340</td>\n",
       "      <td>0.28665</td>\n",
       "      <td>0.35386</td>\n",
       "      <td>0.31910</td>\n",
       "      <td>0.48450</td>\n",
       "      <td>0.08010</td>\n",
       "      <td>0.18260</td>\n",
       "      <td>1.543</td>\n",
       "    </tr>\n",
       "    <tr>\n",
       "      <th>95</th>\n",
       "      <td>99</td>\n",
       "      <td>Ivory Coast</td>\n",
       "      <td>2019</td>\n",
       "      <td>4.944</td>\n",
       "      <td>0.569</td>\n",
       "      <td>0.808</td>\n",
       "      <td>0.232</td>\n",
       "      <td>0.352</td>\n",
       "      <td>0.154</td>\n",
       "      <td>0.090</td>\n",
       "      <td>Sub-Saharan Africa</td>\n",
       "      <td>Sub-Saharan Africa</td>\n",
       "      <td>2015</td>\n",
       "      <td>151</td>\n",
       "      <td>3.655</td>\n",
       "      <td>0.46534</td>\n",
       "      <td>0.77115</td>\n",
       "      <td>0.15185</td>\n",
       "      <td>0.46866</td>\n",
       "      <td>0.17922</td>\n",
       "      <td>0.20165</td>\n",
       "      <td>1.289</td>\n",
       "    </tr>\n",
       "    <tr>\n",
       "      <th>132</th>\n",
       "      <td>139</td>\n",
       "      <td>Togo</td>\n",
       "      <td>2019</td>\n",
       "      <td>4.085</td>\n",
       "      <td>0.275</td>\n",
       "      <td>0.572</td>\n",
       "      <td>0.410</td>\n",
       "      <td>0.293</td>\n",
       "      <td>0.177</td>\n",
       "      <td>0.085</td>\n",
       "      <td>Sub-Saharan Africa</td>\n",
       "      <td>Sub-Saharan Africa</td>\n",
       "      <td>2015</td>\n",
       "      <td>158</td>\n",
       "      <td>2.839</td>\n",
       "      <td>0.20868</td>\n",
       "      <td>0.13995</td>\n",
       "      <td>0.28443</td>\n",
       "      <td>0.36453</td>\n",
       "      <td>0.10731</td>\n",
       "      <td>0.16681</td>\n",
       "      <td>1.246</td>\n",
       "    </tr>\n",
       "    <tr>\n",
       "      <th>57</th>\n",
       "      <td>59</td>\n",
       "      <td>Honduras</td>\n",
       "      <td>2019</td>\n",
       "      <td>5.860</td>\n",
       "      <td>0.642</td>\n",
       "      <td>1.236</td>\n",
       "      <td>0.828</td>\n",
       "      <td>0.507</td>\n",
       "      <td>0.246</td>\n",
       "      <td>0.078</td>\n",
       "      <td>Latin America and Caribbean</td>\n",
       "      <td>Latin America and Caribbean</td>\n",
       "      <td>2015</td>\n",
       "      <td>105</td>\n",
       "      <td>4.788</td>\n",
       "      <td>0.59532</td>\n",
       "      <td>0.95348</td>\n",
       "      <td>0.69510</td>\n",
       "      <td>0.40148</td>\n",
       "      <td>0.06825</td>\n",
       "      <td>0.23027</td>\n",
       "      <td>1.072</td>\n",
       "    </tr>\n",
       "    <tr>\n",
       "      <th>109</th>\n",
       "      <td>115</td>\n",
       "      <td>Burkina Faso</td>\n",
       "      <td>2019</td>\n",
       "      <td>4.587</td>\n",
       "      <td>0.331</td>\n",
       "      <td>1.056</td>\n",
       "      <td>0.380</td>\n",
       "      <td>0.255</td>\n",
       "      <td>0.177</td>\n",
       "      <td>0.113</td>\n",
       "      <td>Sub-Saharan Africa</td>\n",
       "      <td>Sub-Saharan Africa</td>\n",
       "      <td>2015</td>\n",
       "      <td>152</td>\n",
       "      <td>3.587</td>\n",
       "      <td>0.25812</td>\n",
       "      <td>0.85188</td>\n",
       "      <td>0.27125</td>\n",
       "      <td>0.39493</td>\n",
       "      <td>0.12832</td>\n",
       "      <td>0.21747</td>\n",
       "      <td>1.000</td>\n",
       "    </tr>\n",
       "    <tr>\n",
       "      <th>60</th>\n",
       "      <td>62</td>\n",
       "      <td>Hungary</td>\n",
       "      <td>2019</td>\n",
       "      <td>5.758</td>\n",
       "      <td>1.201</td>\n",
       "      <td>1.410</td>\n",
       "      <td>0.828</td>\n",
       "      <td>0.199</td>\n",
       "      <td>0.081</td>\n",
       "      <td>0.020</td>\n",
       "      <td>Central and Eastern Europe</td>\n",
       "      <td>Central and Eastern Europe</td>\n",
       "      <td>2015</td>\n",
       "      <td>104</td>\n",
       "      <td>4.800</td>\n",
       "      <td>1.12094</td>\n",
       "      <td>1.20215</td>\n",
       "      <td>0.75905</td>\n",
       "      <td>0.32112</td>\n",
       "      <td>0.02758</td>\n",
       "      <td>0.12800</td>\n",
       "      <td>0.958</td>\n",
       "    </tr>\n",
       "    <tr>\n",
       "      <th>46</th>\n",
       "      <td>48</td>\n",
       "      <td>Romania</td>\n",
       "      <td>2019</td>\n",
       "      <td>6.070</td>\n",
       "      <td>1.162</td>\n",
       "      <td>1.232</td>\n",
       "      <td>0.825</td>\n",
       "      <td>0.462</td>\n",
       "      <td>0.083</td>\n",
       "      <td>0.005</td>\n",
       "      <td>Central and Eastern Europe</td>\n",
       "      <td>Central and Eastern Europe</td>\n",
       "      <td>2015</td>\n",
       "      <td>86</td>\n",
       "      <td>5.124</td>\n",
       "      <td>1.04345</td>\n",
       "      <td>0.88588</td>\n",
       "      <td>0.76890</td>\n",
       "      <td>0.35068</td>\n",
       "      <td>0.00649</td>\n",
       "      <td>0.13748</td>\n",
       "      <td>0.946</td>\n",
       "    </tr>\n",
       "    <tr>\n",
       "      <th>100</th>\n",
       "      <td>104</td>\n",
       "      <td>Gabon</td>\n",
       "      <td>2019</td>\n",
       "      <td>4.799</td>\n",
       "      <td>1.057</td>\n",
       "      <td>1.183</td>\n",
       "      <td>0.571</td>\n",
       "      <td>0.295</td>\n",
       "      <td>0.043</td>\n",
       "      <td>0.055</td>\n",
       "      <td>Sub-Saharan Africa</td>\n",
       "      <td>Sub-Saharan Africa</td>\n",
       "      <td>2015</td>\n",
       "      <td>143</td>\n",
       "      <td>3.896</td>\n",
       "      <td>1.06024</td>\n",
       "      <td>0.90528</td>\n",
       "      <td>0.43372</td>\n",
       "      <td>0.31914</td>\n",
       "      <td>0.11091</td>\n",
       "      <td>0.06822</td>\n",
       "      <td>0.903</td>\n",
       "    </tr>\n",
       "    <tr>\n",
       "      <th>105</th>\n",
       "      <td>109</td>\n",
       "      <td>Cambodia</td>\n",
       "      <td>2019</td>\n",
       "      <td>4.700</td>\n",
       "      <td>0.574</td>\n",
       "      <td>1.122</td>\n",
       "      <td>0.637</td>\n",
       "      <td>0.609</td>\n",
       "      <td>0.232</td>\n",
       "      <td>0.062</td>\n",
       "      <td>Southeastern Asia</td>\n",
       "      <td>Southeastern Asia</td>\n",
       "      <td>2015</td>\n",
       "      <td>145</td>\n",
       "      <td>3.819</td>\n",
       "      <td>0.46038</td>\n",
       "      <td>0.62736</td>\n",
       "      <td>0.61114</td>\n",
       "      <td>0.66246</td>\n",
       "      <td>0.07247</td>\n",
       "      <td>0.40359</td>\n",
       "      <td>0.881</td>\n",
       "    </tr>\n",
       "    <tr>\n",
       "      <th>112</th>\n",
       "      <td>118</td>\n",
       "      <td>Guinea</td>\n",
       "      <td>2019</td>\n",
       "      <td>4.534</td>\n",
       "      <td>0.380</td>\n",
       "      <td>0.829</td>\n",
       "      <td>0.375</td>\n",
       "      <td>0.332</td>\n",
       "      <td>0.207</td>\n",
       "      <td>0.086</td>\n",
       "      <td>Sub-Saharan Africa</td>\n",
       "      <td>Sub-Saharan Africa</td>\n",
       "      <td>2015</td>\n",
       "      <td>150</td>\n",
       "      <td>3.656</td>\n",
       "      <td>0.17417</td>\n",
       "      <td>0.46475</td>\n",
       "      <td>0.24009</td>\n",
       "      <td>0.37725</td>\n",
       "      <td>0.12139</td>\n",
       "      <td>0.28657</td>\n",
       "      <td>0.878</td>\n",
       "    </tr>\n",
       "  </tbody>\n",
       "</table>\n",
       "</div>"
      ],
      "text/plain": [
       "     HappinessRank_19       Country  Year_19  HappinessScore_19  GDP_19  \\\n",
       "98                102         Benin     2019              4.883   0.393   \n",
       "95                 99   Ivory Coast     2019              4.944   0.569   \n",
       "132               139          Togo     2019              4.085   0.275   \n",
       "57                 59      Honduras     2019              5.860   0.642   \n",
       "109               115  Burkina Faso     2019              4.587   0.331   \n",
       "60                 62       Hungary     2019              5.758   1.201   \n",
       "46                 48       Romania     2019              6.070   1.162   \n",
       "100               104         Gabon     2019              4.799   1.057   \n",
       "105               109      Cambodia     2019              4.700   0.574   \n",
       "112               118        Guinea     2019              4.534   0.380   \n",
       "\n",
       "     Family_19  Life_19  Freedom_19  Generosity_19  Trust_19  \\\n",
       "98       0.437    0.397       0.349          0.175     0.082   \n",
       "95       0.808    0.232       0.352          0.154     0.090   \n",
       "132      0.572    0.410       0.293          0.177     0.085   \n",
       "57       1.236    0.828       0.507          0.246     0.078   \n",
       "109      1.056    0.380       0.255          0.177     0.113   \n",
       "60       1.410    0.828       0.199          0.081     0.020   \n",
       "46       1.232    0.825       0.462          0.083     0.005   \n",
       "100      1.183    0.571       0.295          0.043     0.055   \n",
       "105      1.122    0.637       0.609          0.232     0.062   \n",
       "112      0.829    0.375       0.332          0.207     0.086   \n",
       "\n",
       "                       Region_19                    Region_15  Year_15  \\\n",
       "98            Sub-Saharan Africa           Sub-Saharan Africa     2015   \n",
       "95            Sub-Saharan Africa           Sub-Saharan Africa     2015   \n",
       "132           Sub-Saharan Africa           Sub-Saharan Africa     2015   \n",
       "57   Latin America and Caribbean  Latin America and Caribbean     2015   \n",
       "109           Sub-Saharan Africa           Sub-Saharan Africa     2015   \n",
       "60    Central and Eastern Europe   Central and Eastern Europe     2015   \n",
       "46    Central and Eastern Europe   Central and Eastern Europe     2015   \n",
       "100           Sub-Saharan Africa           Sub-Saharan Africa     2015   \n",
       "105            Southeastern Asia            Southeastern Asia     2015   \n",
       "112           Sub-Saharan Africa           Sub-Saharan Africa     2015   \n",
       "\n",
       "     HappinessRank_15  HappinessScore_15   GDP_15  Family_15  Life_15  \\\n",
       "98                155              3.340  0.28665    0.35386  0.31910   \n",
       "95                151              3.655  0.46534    0.77115  0.15185   \n",
       "132               158              2.839  0.20868    0.13995  0.28443   \n",
       "57                105              4.788  0.59532    0.95348  0.69510   \n",
       "109               152              3.587  0.25812    0.85188  0.27125   \n",
       "60                104              4.800  1.12094    1.20215  0.75905   \n",
       "46                 86              5.124  1.04345    0.88588  0.76890   \n",
       "100               143              3.896  1.06024    0.90528  0.43372   \n",
       "105               145              3.819  0.46038    0.62736  0.61114   \n",
       "112               150              3.656  0.17417    0.46475  0.24009   \n",
       "\n",
       "     Freedom_15  Trust_15  Generosity_15  change  \n",
       "98      0.48450   0.08010        0.18260   1.543  \n",
       "95      0.46866   0.17922        0.20165   1.289  \n",
       "132     0.36453   0.10731        0.16681   1.246  \n",
       "57      0.40148   0.06825        0.23027   1.072  \n",
       "109     0.39493   0.12832        0.21747   1.000  \n",
       "60      0.32112   0.02758        0.12800   0.958  \n",
       "46      0.35068   0.00649        0.13748   0.946  \n",
       "100     0.31914   0.11091        0.06822   0.903  \n",
       "105     0.66246   0.07247        0.40359   0.881  \n",
       "112     0.37725   0.12139        0.28657   0.878  "
      ]
     },
     "execution_count": 233,
     "metadata": {},
     "output_type": "execute_result"
    }
   ],
   "source": [
    "report1519.sort_values(by = \"change\", ascending = False).head(10)"
   ]
  },
  {
   "cell_type": "code",
   "execution_count": 234,
   "id": "bca3f222",
   "metadata": {},
   "outputs": [],
   "source": [
    "decrease = report1519[report1519[\"change\"] < 0].groupby(\"Region_15\").change.count().reset_index()"
   ]
  },
  {
   "cell_type": "code",
   "execution_count": 235,
   "id": "221921dd",
   "metadata": {},
   "outputs": [],
   "source": [
    "allcountry = report1519.groupby(\"Region_15\").change.count().reset_index()"
   ]
  },
  {
   "cell_type": "code",
   "execution_count": 236,
   "id": "739ff064",
   "metadata": {},
   "outputs": [],
   "source": [
    "merged = allcountry.merge(decrease, left_on = \"Region_15\", right_on = \"Region_15\", suffixes = (\"_all\", \"_dec\"))\n",
    "merged[\"perc\"] = round(merged[\"change_dec\"] / merged[\"change_all\"] * 100, 1)\n",
    "merged[\"change_inc\"] = merged[\"change_all\"] - merged[\"change_dec\"]"
   ]
  },
  {
   "cell_type": "code",
   "execution_count": 237,
   "id": "1f69b631",
   "metadata": {},
   "outputs": [
    {
     "data": {
      "text/plain": [
       "<AxesSubplot:title={'center':'Change in Happiness Score'}, xlabel='Region_15'>"
      ]
     },
     "execution_count": 237,
     "metadata": {},
     "output_type": "execute_result"
    },
    {
     "data": {
      "image/png": "[encoded data removed]",
      "text/plain": [
       "<Figure size 432x288 with 1 Axes>"
      ]
     },
     "metadata": {
      "needs_background": "light"
     },
     "output_type": "display_data"
    }
   ],
   "source": [
    "merged.plot(x = \"Region_15\", y = [\"change_inc\", \"change_dec\"], kind = \"bar\", stacked = True,\n",
    "        title = \"Change in Happiness Score\")"
   ]
  },
  {
   "cell_type": "markdown",
   "id": "a2a8b102",
   "metadata": {},
   "source": [
    "## En Mutlu ve En Mutsuz Ülkeler"
   ]
  },
  {
   "cell_type": "markdown",
   "id": "46a5e9ff",
   "metadata": {},
   "source": [
    "### 2015"
   ]
  },
  {
   "cell_type": "code",
   "execution_count": 238,
   "id": "976cf630",
   "metadata": {},
   "outputs": [],
   "source": [
    "top10in2015 = report15.sort_values(by = \"HappinessScore\", ascending = False)[:10]\n",
    "worst10in2015 = report15.sort_values(by = \"HappinessScore\", ascending = True)[:10]"
   ]
  },
  {
   "cell_type": "code",
   "execution_count": 239,
   "id": "6e56a12b",
   "metadata": {},
   "outputs": [
    {
     "name": "stderr",
     "output_type": "stream",
     "text": [
      "<ipython-input-239-7f5455608d5e>:2: UserWarning: FixedFormatter should only be used together with FixedLocator\n",
      "  splot.set_xticklabels(labels = top10in2015[\"Country\"], rotation = 45)\n"
     ]
    },
    {
     "data": {
      "image/png": "[encoded data removed]",
      "text/plain": [
       "<Figure size 432x288 with 1 Axes>"
      ]
     },
     "metadata": {
      "needs_background": "light"
     },
     "output_type": "display_data"
    }
   ],
   "source": [
    "splot = sns.scatterplot(x = top10in2015[\"Country\"], y = top10in2015[\"HappinessScore\"], hue = top10in2015[\"Region\"], s = 100)\n",
    "splot.set_xticklabels(labels = top10in2015[\"Country\"], rotation = 45)\n",
    "plt.show()"
   ]
  },
  {
   "cell_type": "code",
   "execution_count": 240,
   "id": "e5928017",
   "metadata": {},
   "outputs": [
    {
     "name": "stderr",
     "output_type": "stream",
     "text": [
      "<ipython-input-240-dd1bcf7e39de>:2: UserWarning: FixedFormatter should only be used together with FixedLocator\n",
      "  splot.set_xticklabels(labels = worst10in2015[\"Country\"], rotation = 45)\n"
     ]
    },
    {
     "data": {
      "image/png": "[encoded data removed]",
      "text/plain": [
       "<Figure size 432x288 with 1 Axes>"
      ]
     },
     "metadata": {
      "needs_background": "light"
     },
     "output_type": "display_data"
    }
   ],
   "source": [
    "splot = sns.scatterplot(x = worst10in2015[\"Country\"], y = worst10in2015[\"HappinessScore\"], hue = worst10in2015[\"Region\"], s = 100)\n",
    "splot.set_xticklabels(labels = worst10in2015[\"Country\"], rotation = 45)\n",
    "plt.show()"
   ]
  },
  {
   "cell_type": "markdown",
   "id": "24690c64",
   "metadata": {},
   "source": [
    "### 2016"
   ]
  },
  {
   "cell_type": "code",
   "execution_count": 241,
   "id": "3cf90bdc",
   "metadata": {},
   "outputs": [],
   "source": [
    "top10in2016 = report16.sort_values(by = \"HappinessScore\", ascending = False)[:10]\n",
    "worst10in2016 = report16.sort_values(by = \"HappinessScore\", ascending = True)[:10]"
   ]
  },
  {
   "cell_type": "code",
   "execution_count": 242,
   "id": "467b1e58",
   "metadata": {},
   "outputs": [
    {
     "name": "stderr",
     "output_type": "stream",
     "text": [
      "<ipython-input-242-f4e7bedab973>:2: UserWarning: FixedFormatter should only be used together with FixedLocator\n",
      "  splot.set_xticklabels(labels = top10in2016[\"Country\"], rotation = 45)\n"
     ]
    },
    {
     "data": {
      "image/png": "[encoded data removed]",
      "text/plain": [
       "<Figure size 432x288 with 1 Axes>"
      ]
     },
     "metadata": {
      "needs_background": "light"
     },
     "output_type": "display_data"
    }
   ],
   "source": [
    "splot = sns.scatterplot(x = top10in2016[\"Country\"], y = top10in2016[\"HappinessScore\"], hue = top10in2016[\"Region\"], s = 100)\n",
    "splot.set_xticklabels(labels = top10in2016[\"Country\"], rotation = 45)\n",
    "plt.show()"
   ]
  },
  {
   "cell_type": "code",
   "execution_count": 243,
   "id": "d4c7f8c4",
   "metadata": {},
   "outputs": [
    {
     "name": "stderr",
     "output_type": "stream",
     "text": [
      "<ipython-input-243-9bae4747784a>:2: UserWarning: FixedFormatter should only be used together with FixedLocator\n",
      "  splot.set_xticklabels(labels = worst10in2016[\"Country\"], rotation = 45)\n"
     ]
    },
    {
     "data": {
      "image/png": "[encoded data removed]",
      "text/plain": [
       "<Figure size 432x288 with 1 Axes>"
      ]
     },
     "metadata": {
      "needs_background": "light"
     },
     "output_type": "display_data"
    }
   ],
   "source": [
    "splot = sns.scatterplot(x = worst10in2016[\"Country\"], y = worst10in2016[\"HappinessScore\"], hue = worst10in2016[\"Region\"], s = 100)\n",
    "splot.set_xticklabels(labels = worst10in2016[\"Country\"], rotation = 45)\n",
    "plt.show()"
   ]
  },
  {
   "cell_type": "markdown",
   "id": "8a1bfbd2",
   "metadata": {},
   "source": [
    "### 2017"
   ]
  },
  {
   "cell_type": "code",
   "execution_count": 244,
   "id": "6ff04d4e",
   "metadata": {},
   "outputs": [],
   "source": [
    "top10in2017 = report17.sort_values(by = \"HappinessScore\", ascending = False)[:10]\n",
    "worst10in2017 = report17.sort_values(by = \"HappinessScore\", ascending = True)[:10]"
   ]
  },
  {
   "cell_type": "code",
   "execution_count": 245,
   "id": "97f72e34",
   "metadata": {},
   "outputs": [
    {
     "name": "stderr",
     "output_type": "stream",
     "text": [
      "<ipython-input-245-0855dfba933b>:2: UserWarning: FixedFormatter should only be used together with FixedLocator\n",
      "  splot.set_xticklabels(labels = top10in2017[\"Country\"], rotation = 45)\n"
     ]
    },
    {
     "data": {
      "image/png": "[encoded data removed]",
      "text/plain": [
       "<Figure size 432x288 with 1 Axes>"
      ]
     },
     "metadata": {
      "needs_background": "light"
     },
     "output_type": "display_data"
    }
   ],
   "source": [
    "splot = sns.scatterplot(x = top10in2017[\"Country\"], y = top10in2017[\"HappinessScore\"], hue = top10in2017[\"Region\"], s = 100)\n",
    "splot.set_xticklabels(labels = top10in2017[\"Country\"], rotation = 45)\n",
    "plt.show()"
   ]
  },
  {
   "cell_type": "code",
   "execution_count": 246,
   "id": "5f8a109e",
   "metadata": {},
   "outputs": [
    {
     "name": "stderr",
     "output_type": "stream",
     "text": [
      "<ipython-input-246-98d49628179c>:2: UserWarning: FixedFormatter should only be used together with FixedLocator\n",
      "  splot.set_xticklabels(labels = worst10in2017[\"Country\"], rotation = 45)\n"
     ]
    },
    {
     "data": {
      "image/png": "[encoded data removed]",
      "text/plain": [
       "<Figure size 432x288 with 1 Axes>"
      ]
     },
     "metadata": {
      "needs_background": "light"
     },
     "output_type": "display_data"
    }
   ],
   "source": [
    "splot = sns.scatterplot(x = worst10in2017[\"Country\"], y = worst10in2017[\"HappinessScore\"], hue = worst10in2017[\"Region\"], s = 100)\n",
    "splot.set_xticklabels(labels = worst10in2017[\"Country\"], rotation = 45)\n",
    "plt.show()"
   ]
  },
  {
   "cell_type": "markdown",
   "id": "02c305d7",
   "metadata": {},
   "source": [
    "### 2018"
   ]
  },
  {
   "cell_type": "code",
   "execution_count": 247,
   "id": "279f86d9",
   "metadata": {},
   "outputs": [],
   "source": [
    "top10in2018 = report18.sort_values(by = \"HappinessScore\", ascending = False)[:10]\n",
    "worst10in2018 = report18.sort_values(by = \"HappinessScore\", ascending = True)[:10]"
   ]
  },
  {
   "cell_type": "code",
   "execution_count": 248,
   "id": "b076340d",
   "metadata": {},
   "outputs": [
    {
     "name": "stderr",
     "output_type": "stream",
     "text": [
      "<ipython-input-248-1f0b437cc696>:2: UserWarning: FixedFormatter should only be used together with FixedLocator\n",
      "  splot.set_xticklabels(labels = top10in2018[\"Country\"], rotation = 45)\n"
     ]
    },
    {
     "data": {
      "image/png": "[encoded data removed]",
      "text/plain": [
       "<Figure size 432x288 with 1 Axes>"
      ]
     },
     "metadata": {
      "needs_background": "light"
     },
     "output_type": "display_data"
    }
   ],
   "source": [
    "splot = sns.scatterplot(x = top10in2018[\"Country\"], y = top10in2018[\"HappinessScore\"], hue = top10in2018[\"Region\"], s = 100)\n",
    "splot.set_xticklabels(labels = top10in2018[\"Country\"], rotation = 45)\n",
    "plt.show()"
   ]
  },
  {
   "cell_type": "code",
   "execution_count": 249,
   "id": "f366ddfc",
   "metadata": {},
   "outputs": [
    {
     "name": "stderr",
     "output_type": "stream",
     "text": [
      "<ipython-input-249-fbd434694ade>:2: UserWarning: FixedFormatter should only be used together with FixedLocator\n",
      "  splot.set_xticklabels(labels = worst10in2018[\"Country\"], rotation = 45)\n"
     ]
    },
    {
     "data": {
      "image/png": "[encoded data removed]",
      "text/plain": [
       "<Figure size 432x288 with 1 Axes>"
      ]
     },
     "metadata": {
      "needs_background": "light"
     },
     "output_type": "display_data"
    }
   ],
   "source": [
    "splot = sns.scatterplot(x = worst10in2018[\"Country\"], y = worst10in2018[\"HappinessScore\"], hue = worst10in2018[\"Region\"], s = 100)\n",
    "splot.set_xticklabels(labels = worst10in2018[\"Country\"], rotation = 45)\n",
    "plt.show()"
   ]
  },
  {
   "cell_type": "markdown",
   "id": "7e21e7f2",
   "metadata": {},
   "source": [
    "### 2019"
   ]
  },
  {
   "cell_type": "code",
   "execution_count": 250,
   "id": "f6119876",
   "metadata": {},
   "outputs": [],
   "source": [
    "top10in2019 = report19.sort_values(by = \"HappinessScore\", ascending = False)[:10]\n",
    "worst10in2019 = report19.sort_values(by = \"HappinessScore\", ascending = True)[:10]"
   ]
  },
  {
   "cell_type": "code",
   "execution_count": 251,
   "id": "e38490a1",
   "metadata": {},
   "outputs": [
    {
     "name": "stderr",
     "output_type": "stream",
     "text": [
      "<ipython-input-251-04aae1de853d>:2: UserWarning: FixedFormatter should only be used together with FixedLocator\n",
      "  splot.set_xticklabels(labels = top10in2019[\"Country\"], rotation = 45)\n"
     ]
    },
    {
     "data": {
      "image/png": "[encoded data removed]",
      "text/plain": [
       "<Figure size 432x288 with 1 Axes>"
      ]
     },
     "metadata": {
      "needs_background": "light"
     },
     "output_type": "display_data"
    }
   ],
   "source": [
    "splot = sns.scatterplot(x = top10in2019[\"Country\"], y = top10in2019[\"HappinessScore\"], hue = top10in2019[\"Region\"], s = 100)\n",
    "splot.set_xticklabels(labels = top10in2019[\"Country\"], rotation = 45)\n",
    "plt.show()"
   ]
  },
  {
   "cell_type": "code",
   "execution_count": 252,
   "id": "2b3e663b",
   "metadata": {},
   "outputs": [
    {
     "name": "stderr",
     "output_type": "stream",
     "text": [
      "<ipython-input-252-5f7cf3ecdd9d>:2: UserWarning: FixedFormatter should only be used together with FixedLocator\n",
      "  splot.set_xticklabels(labels = worst10in2019[\"Country\"], rotation = 45)\n"
     ]
    },
    {
     "data": {
      "image/png": "[encoded data removed]",
      "text/plain": [
       "<Figure size 432x288 with 1 Axes>"
      ]
     },
     "metadata": {
      "needs_background": "light"
     },
     "output_type": "display_data"
    }
   ],
   "source": [
    "splot = sns.scatterplot(x = worst10in2019[\"Country\"], y = worst10in2019[\"HappinessScore\"], hue = worst10in2019[\"Region\"], s = 100)\n",
    "splot.set_xticklabels(labels = worst10in2019[\"Country\"], rotation = 45)\n",
    "plt.show()"
   ]
  },
  {
   "cell_type": "code",
   "execution_count": 253,
   "id": "e95414db",
   "metadata": {},
   "outputs": [
    {
     "data": {
      "text/html": [
       "<div>\n",
       "<style scoped>\n",
       "    .dataframe tbody tr th:only-of-type {\n",
       "        vertical-align: middle;\n",
       "    }\n",
       "\n",
       "    .dataframe tbody tr th {\n",
       "        vertical-align: top;\n",
       "    }\n",
       "\n",
       "    .dataframe thead th {\n",
       "        text-align: right;\n",
       "    }\n",
       "</style>\n",
       "<table border=\"1\" class=\"dataframe\">\n",
       "  <thead>\n",
       "    <tr style=\"text-align: right;\">\n",
       "      <th></th>\n",
       "      <th>index</th>\n",
       "      <th>Country</th>\n",
       "      <th>Region</th>\n",
       "      <th>Year</th>\n",
       "      <th>HappinessRank</th>\n",
       "      <th>HappinessScore</th>\n",
       "      <th>GDP</th>\n",
       "      <th>Family</th>\n",
       "      <th>Life</th>\n",
       "      <th>Freedom</th>\n",
       "      <th>Trust</th>\n",
       "      <th>Generosity</th>\n",
       "    </tr>\n",
       "  </thead>\n",
       "  <tbody>\n",
       "    <tr>\n",
       "      <th>0</th>\n",
       "      <td>0</td>\n",
       "      <td>Switzerland</td>\n",
       "      <td>Western Europe</td>\n",
       "      <td>2015</td>\n",
       "      <td>1</td>\n",
       "      <td>7.587</td>\n",
       "      <td>1.39651</td>\n",
       "      <td>1.34951</td>\n",
       "      <td>0.94143</td>\n",
       "      <td>0.66557</td>\n",
       "      <td>0.41978</td>\n",
       "      <td>0.29678</td>\n",
       "    </tr>\n",
       "    <tr>\n",
       "      <th>1</th>\n",
       "      <td>1</td>\n",
       "      <td>Iceland</td>\n",
       "      <td>Western Europe</td>\n",
       "      <td>2015</td>\n",
       "      <td>2</td>\n",
       "      <td>7.561</td>\n",
       "      <td>1.30232</td>\n",
       "      <td>1.40223</td>\n",
       "      <td>0.94784</td>\n",
       "      <td>0.62877</td>\n",
       "      <td>0.14145</td>\n",
       "      <td>0.43630</td>\n",
       "    </tr>\n",
       "  </tbody>\n",
       "</table>\n",
       "</div>"
      ],
      "text/plain": [
       "   index      Country          Region  Year  HappinessRank  HappinessScore  \\\n",
       "0      0  Switzerland  Western Europe  2015              1           7.587   \n",
       "1      1      Iceland  Western Europe  2015              2           7.561   \n",
       "\n",
       "       GDP   Family     Life  Freedom    Trust  Generosity  \n",
       "0  1.39651  1.34951  0.94143  0.66557  0.41978     0.29678  \n",
       "1  1.30232  1.40223  0.94784  0.62877  0.14145     0.43630  "
      ]
     },
     "execution_count": 253,
     "metadata": {},
     "output_type": "execute_result"
    }
   ],
   "source": [
    "report.head(2)"
   ]
  },
  {
   "cell_type": "markdown",
   "id": "5a0d2def",
   "metadata": {},
   "source": [
    "## Mutluluk Puanını etkileyen faktörlerin bölgelere göre oranı nedir?"
   ]
  },
  {
   "cell_type": "markdown",
   "id": "93705b34",
   "metadata": {},
   "source": [
    "### 2015"
   ]
  },
  {
   "cell_type": "code",
   "execution_count": 254,
   "id": "60888719",
   "metadata": {},
   "outputs": [
    {
     "data": {
      "image/png": "[encoded data removed]",
      "text/plain": [
       "<Figure size 648x360 with 1 Axes>"
      ]
     },
     "metadata": {
      "needs_background": "light"
     },
     "output_type": "display_data"
    }
   ],
   "source": [
    "region_lists=list(report15['Region'].unique())\n",
    "share_family=[]\n",
    "share_trust=[]\n",
    "share_freedom=[]\n",
    "share_life=[]\n",
    "share_generosity=[]\n",
    "\n",
    "\n",
    "for each in region_lists:\n",
    "    region=report15[report15['Region']==each]\n",
    "    share_family.append(sum(region.Family)/len(region))\n",
    "    share_trust.append(sum(region.Trust)/len(region))\n",
    "    share_freedom.append(sum(region.Freedom)/len(region))\n",
    "    share_life.append(sum(region.Life)/len(region))\n",
    "    share_generosity.append(sum(region.Generosity)/len(region))\n",
    "\n",
    "    \n",
    "f,ax = plt.subplots(figsize = (9,5))\n",
    "sns.set_color_codes(\"pastel\")\n",
    "sns.barplot(x=share_life,y=region_lists,color='g',label=\"Life\")\n",
    "sns.barplot(x=share_family,y=region_lists,color='b',label=\"Family\")\n",
    "sns.barplot(x=share_freedom,y=region_lists,color='c',label=\"Freedom\")\n",
    "sns.barplot(x=share_trust,y=region_lists,color='y',label=\"Trust\")\n",
    "sns.barplot(x=share_generosity,y=region_lists,color='r',label=\"Generosity\")\n",
    "\n",
    "\n",
    "ax.legend(loc=\"lower right\",frameon = True)\n",
    "ax.set(xlabel='Percentage of Region', ylabel='Region',title = \"Factors affecting happiness score\")\n",
    "\n",
    "plt.show()"
   ]
  },
  {
   "cell_type": "markdown",
   "id": "8e91b690",
   "metadata": {},
   "source": [
    "### 2019"
   ]
  },
  {
   "cell_type": "code",
   "execution_count": 255,
   "id": "0da5fb65",
   "metadata": {},
   "outputs": [
    {
     "data": {
      "image/png": "[encoded data removed]",
      "text/plain": [
       "<Figure size 648x360 with 1 Axes>"
      ]
     },
     "metadata": {
      "needs_background": "light"
     },
     "output_type": "display_data"
    }
   ],
   "source": [
    "region_lists=list(report19['Region'].unique())\n",
    "share_family=[]\n",
    "share_trust=[]\n",
    "share_freedom=[]\n",
    "share_life=[]\n",
    "share_generosity=[]\n",
    "\n",
    "\n",
    "for each in region_lists:\n",
    "    region=report19[report19['Region']==each]\n",
    "    share_family.append(sum(region.Family)/len(region))\n",
    "    share_trust.append(sum(region.Trust)/len(region))\n",
    "    share_freedom.append(sum(region.Freedom)/len(region))\n",
    "    share_life.append(sum(region.Life)/len(region))\n",
    "    share_generosity.append(sum(region.Generosity)/len(region))\n",
    "\n",
    "    \n",
    "f,ax = plt.subplots(figsize = (9,5))\n",
    "sns.set_color_codes(\"pastel\")\n",
    "sns.barplot(x=share_life,y=region_lists,color='g',label=\"Life\")\n",
    "sns.barplot(x=share_family,y=region_lists,color='b',label=\"Family\")\n",
    "sns.barplot(x=share_freedom,y=region_lists,color='c',label=\"Freedom\")\n",
    "sns.barplot(x=share_trust,y=region_lists,color='y',label=\"Trust\")\n",
    "sns.barplot(x=share_generosity,y=region_lists,color='r',label=\"Generosity\")\n",
    "\n",
    "\n",
    "ax.legend(loc=\"lower right\",frameon = True)\n",
    "ax.set(xlabel='Percentage of Region', ylabel='Region',title = \"Factors affecting happiness score\")\n",
    "\n",
    "plt.show()"
   ]
  },
  {
   "cell_type": "code",
   "execution_count": null,
   "id": "058d272a",
   "metadata": {},
   "outputs": [],
   "source": []
  }
 ],
 "metadata": {
  "kernelspec": {
   "display_name": "Python 3",
   "language": "python",
   "name": "python3"
  },
  "language_info": {
   "codemirror_mode": {
    "name": "ipython",
    "version": 3
   },
   "file_extension": ".py",
   "mimetype": "text/x-python",
   "name": "python",
   "nbconvert_exporter": "python",
   "pygments_lexer": "ipython3",
   "version": "3.8.8"
  }
 },
 "nbformat": 4,
 "nbformat_minor": 5
}
